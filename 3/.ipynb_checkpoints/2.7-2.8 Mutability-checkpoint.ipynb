{
 "cells": [
  {
   "cell_type": "markdown",
   "metadata": {},
   "source": [
    "# Mutability\n",
    "\n",
    "    - The only exception: .copy()\n",
    "      b_list = a_list.copy() : If I change a_list, b_list won't change\n",
    "      \"Shallow copy\"\n",
    "    - deepcopy(a_list)\n",
    "      from copy import deepcopy"
   ]
  },
  {
   "cell_type": "code",
   "execution_count": 9,
   "metadata": {},
   "outputs": [
    {
     "name": "stdout",
     "output_type": "stream",
     "text": [
      "first_list now has the value [1000, 2, 3, 4, 5]\n"
     ]
    }
   ],
   "source": [
    "first_list = [1,2,3,4,5]\n",
    "second_list = first_list\n",
    "second_list[0] = 1000\n",
    "print(\"first_list now has the value\", first_list)"
   ]
  },
  {
   "cell_type": "code",
   "execution_count": 10,
   "metadata": {},
   "outputs": [
    {
     "name": "stdout",
     "output_type": "stream",
     "text": [
      "c_list now has the value [['tu', 'ba']]\n"
     ]
    }
   ],
   "source": [
    "a_list = [\"tu\", \"tu\"]\n",
    "b_list = [a_list]\n",
    "c_list = [a_list]\n",
    "b_list[0][1] = \"ba\"\n",
    "print(\"c_list now has the value\", c_list)"
   ]
  },
  {
   "cell_type": "code",
   "execution_count": 11,
   "metadata": {},
   "outputs": [
    {
     "name": "stdout",
     "output_type": "stream",
     "text": [
      "['ra', ['ta']] [['ta'], ['ta']]\n"
     ]
    }
   ],
   "source": [
    "A_list = []\n",
    "B_list = [\"ra\", A_list]\n",
    "C_list = [A_list, A_list]\n",
    "B_list[1].append(\"ta\")\n",
    "print(B_list, C_list)"
   ]
  },
  {
   "cell_type": "code",
   "execution_count": 12,
   "metadata": {},
   "outputs": [
    {
     "name": "stdout",
     "output_type": "stream",
     "text": [
      "['go', [...]]\n"
     ]
    }
   ],
   "source": [
    "d_list = [\"go\"]\n",
    "d_list.append(d_list)\n",
    "print(d_list)"
   ]
  },
  {
   "cell_type": "code",
   "execution_count": 13,
   "metadata": {},
   "outputs": [
    {
     "name": "stdout",
     "output_type": "stream",
     "text": [
      "f_list now has the value [1, 2, ['Bill', 'Kay']]\n"
     ]
    }
   ],
   "source": [
    "e_list = [1,2,[\"Bill\",\"Kay\"]]\n",
    "f_list = e_list.copy()\n",
    "print(\"f_list now has the value\", f_list)"
   ]
  },
  {
   "cell_type": "code",
   "execution_count": 14,
   "metadata": {},
   "outputs": [
    {
     "name": "stdout",
     "output_type": "stream",
     "text": [
      "e_list now has the value [5, 2, ['Bill', 'Kay']]\n",
      "f_list now has the value [1, 2, ['Bill', 'Kay']]\n"
     ]
    }
   ],
   "source": [
    "e_list[0] = 5\n",
    "print(\"e_list now has the value\", e_list)\n",
    "print(\"f_list now has the value\", f_list)"
   ]
  },
  {
   "cell_type": "code",
   "execution_count": 15,
   "metadata": {},
   "outputs": [
    {
     "name": "stdout",
     "output_type": "stream",
     "text": [
      "f_list now has the value [1, 2, ['Bill', 'Kay', 'Paul']]\n"
     ]
    }
   ],
   "source": [
    "e_list[2].append(\"Paul\")\n",
    "print(\"f_list now has the value\", f_list)"
   ]
  },
  {
   "cell_type": "code",
   "execution_count": 16,
   "metadata": {},
   "outputs": [
    {
     "name": "stdout",
     "output_type": "stream",
     "text": [
      "[1, 2, ['Bill', 'Kay', 'Did I get it?']]\n",
      "[1, 2, ['Bill', 'Kay']]\n"
     ]
    }
   ],
   "source": [
    "from copy import deepcopy\n",
    "e_list = [1,2,[\"Bill\",\"Kay\"]]\n",
    "g_list = deepcopy(e_list)\n",
    "e_list[2].append(\"Did I get it?\")\n",
    "print(e_list)\n",
    "print(g_list)"
   ]
  },
  {
   "cell_type": "code",
   "execution_count": null,
   "metadata": {},
   "outputs": [],
   "source": []
  },
  {
   "cell_type": "code",
   "execution_count": null,
   "metadata": {},
   "outputs": [],
   "source": []
  },
  {
   "cell_type": "code",
   "execution_count": null,
   "metadata": {},
   "outputs": [],
   "source": []
  },
  {
   "cell_type": "code",
   "execution_count": null,
   "metadata": {},
   "outputs": [],
   "source": []
  }
 ],
 "metadata": {
  "kernelspec": {
   "display_name": "Python 3 (ipykernel)",
   "language": "python",
   "name": "python3"
  },
  "language_info": {
   "codemirror_mode": {
    "name": "ipython",
    "version": 3
   },
   "file_extension": ".py",
   "mimetype": "text/x-python",
   "name": "python",
   "nbconvert_exporter": "python",
   "pygments_lexer": "ipython3",
   "version": "3.9.7"
  }
 },
 "nbformat": 4,
 "nbformat_minor": 2
}
