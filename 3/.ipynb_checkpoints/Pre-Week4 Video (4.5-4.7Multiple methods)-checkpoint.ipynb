{
 "cells": [
  {
   "cell_type": "markdown",
   "metadata": {},
   "source": [
    "# More about Algorithms\n",
    "\n",
    "algorithm:\n",
    "1. abstract set of steps a program will execute\n",
    "2. plan for solving a problem\n",
    "\n",
    "problem: how do you find the square root of x. x>0. want to be within epsillon on the real square root.\n",
    "\n",
    "x ** 0.5\n",
    "\n",
    "## Brute Force algorithm"
   ]
  },
  {
   "cell_type": "code",
   "execution_count": 12,
   "metadata": {},
   "outputs": [
    {
     "name": "stdout",
     "output_type": "stream",
     "text": [
      "Enter your number: 12345\n",
      "number of guesses:  11110806\n",
      "111.1080600240677 is close to the square root of 12345.0\n"
     ]
    }
   ],
   "source": [
    "x = float(input(\"Enter your number: \"))\n",
    "\n",
    "num_guesses = 0\n",
    "epsilon = 0.00001\n",
    "ans = 0.0\n",
    "\n",
    "while ans ** 2 <= x:\n",
    "    ans += epsilon\n",
    "    num_guesses += 1\n",
    "    \n",
    "print(\"number of guesses: \", num_guesses)\n",
    "print(ans, \"is close to the square root of\", x)"
   ]
  },
  {
   "cell_type": "markdown",
   "metadata": {},
   "source": [
    "## Bisection Search\n",
    "\n",
    "square root of x:\n",
    "    - is between 0 and x\n",
    "    "
   ]
  },
  {
   "cell_type": "code",
   "execution_count": 13,
   "metadata": {},
   "outputs": [
    {
     "name": "stdout",
     "output_type": "stream",
     "text": [
      "Enter your number: 0.25\n",
      "low = 0 high = 0.25\n",
      "low = 0.125 high = 0.25\n",
      "low = 0.1875 high = 0.25\n",
      "low = 0.21875 high = 0.25\n",
      "low = 0.234375 high = 0.25\n",
      "low = 0.2421875 high = 0.25\n",
      "low = 0.24609375 high = 0.25\n",
      "low = 0.248046875 high = 0.25\n",
      "low = 0.2490234375 high = 0.25\n",
      "low = 0.24951171875 high = 0.25\n",
      "low = 0.249755859375 high = 0.25\n",
      "low = 0.2498779296875 high = 0.25\n",
      "low = 0.24993896484375 high = 0.25\n",
      "low = 0.249969482421875 high = 0.25\n",
      "0.24999237060546875 is close to the square root of 0.25\n",
      "number of guesses is 14\n"
     ]
    }
   ],
   "source": [
    "x = float(input(\"Enter your number: \"))\n",
    "\n",
    "epsilon = 0.00001\n",
    "num_guesses = 0\n",
    "low = 0\n",
    "high = x\n",
    "ans = (high + low) / 2\n",
    "\n",
    "while high - low >= 2 * epsilon:\n",
    "    print(\"low =\", low, \"high =\", high)\n",
    "    num_guesses += 1\n",
    "    if ans**2 < x:\n",
    "        low = ans\n",
    "    else:\n",
    "        high = ans\n",
    "    ans = (high + low) / 2.0\n",
    "\n",
    "print(ans, \"is close to the square root of\", x)\n",
    "print(\"number of guesses is\", num_guesses)"
   ]
  },
  {
   "cell_type": "markdown",
   "metadata": {},
   "source": [
    "## Heron's Method\n",
    "\n",
    "Babilonian ancient method\n",
    "\n",
    "Find ans close to the square root of x\n",
    "\n",
    "ans\n",
    "consider x / ans\n",
    "ans * (x/ans) = x\n",
    "  (square roots will always be between ans and x/ans)\n",
    "\n",
    "next guess: (x/ans + ans) / 2\n",
    "\n",
    "\n",
    "### Newton's Method.\n",
    "Finding roots of any function\n",
    "\n",
    "let f(ans) = ans ** 2 - x.\n",
    "\n",
    "find ans such that f(ans) = 0"
   ]
  },
  {
   "cell_type": "code",
   "execution_count": 16,
   "metadata": {},
   "outputs": [
    {
     "name": "stdout",
     "output_type": "stream",
     "text": [
      "Enter your number: 12345\n",
      "111.10805770848404 is close to the square root of 12345.0\n",
      "Number of guesses:  10\n"
     ]
    }
   ],
   "source": [
    "x = float(input(\"Enter your number: \"))\n",
    "\n",
    "epsilon = 0.00001\n",
    "num_guesses = 0\n",
    "ans = 1\n",
    "\n",
    "while abs(x/ans - ans) > epsilon:\n",
    "    ans = (x/ans + ans) / 2\n",
    "    num_guesses += 1\n",
    "    \n",
    "print(ans,\"is close to the square root of\", x)\n",
    "print(\"Number of guesses: \", num_guesses)"
   ]
  }
 ],
 "metadata": {
  "kernelspec": {
   "display_name": "Python 3",
   "language": "python",
   "name": "python3"
  },
  "language_info": {
   "codemirror_mode": {
    "name": "ipython",
    "version": 3
   },
   "file_extension": ".py",
   "mimetype": "text/x-python",
   "name": "python",
   "nbconvert_exporter": "python",
   "pygments_lexer": "ipython3",
   "version": "3.6.3"
  }
 },
 "nbformat": 4,
 "nbformat_minor": 2
}
