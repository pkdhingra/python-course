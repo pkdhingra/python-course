{
 "cells": [
  {
   "cell_type": "markdown",
   "metadata": {},
   "source": [
    "# Fancy loops exits\n",
    "\n",
    "Example: test if x is prime"
   ]
  },
  {
   "cell_type": "code",
   "execution_count": 1,
   "metadata": {},
   "outputs": [
    {
     "name": "stdout",
     "output_type": "stream",
     "text": [
      "Enter a number: 17\n",
      "17 is prime.\n"
     ]
    }
   ],
   "source": [
    "x = int(input(\"Enter a number: \"))\n",
    "prime = True\n",
    "\n",
    "for i in range(2, x):\n",
    "    # check if i divides x.\n",
    "    if x % i  == 0:\n",
    "        # now I know x is not prime.\n",
    "        prime = False\n",
    "        \n",
    "if prime == True:\n",
    "    print(x, \"is prime.\")\n",
    "else:\n",
    "    print(x, \"is not prime.\")"
   ]
  },
  {
   "cell_type": "code",
   "execution_count": 8,
   "metadata": {},
   "outputs": [
    {
     "name": "stdout",
     "output_type": "stream",
     "text": [
      "Enter a number: 2000\n",
      "kept looping uptil i is 3\n",
      "2000 is not prime.\n"
     ]
    }
   ],
   "source": [
    "x = int(input(\"Enter a number: \"))\n",
    "prime = True\n",
    "\n",
    "i = 2\n",
    "while i < x and prime == True:\n",
    "    # or just prime:\n",
    "    # check if i divides x.\n",
    "    if x % i  == 0:\n",
    "        # now I know x is not prime.\n",
    "        prime = False\n",
    "    i += 1\n",
    "        \n",
    "print(\"kept looping uptil i is\", i)        \n",
    "if prime == True:\n",
    "    print(x, \"is prime.\")\n",
    "else:\n",
    "    print(x, \"is not prime.\")"
   ]
  },
  {
   "cell_type": "code",
   "execution_count": 11,
   "metadata": {},
   "outputs": [
    {
     "name": "stdout",
     "output_type": "stream",
     "text": [
      "Enter a number: 13\n",
      "Now checking possible divisor  2\n",
      "Now checking possible divisor  3\n",
      "Now checking possible divisor  4\n",
      "Now checking possible divisor  5\n",
      "Now checking possible divisor  6\n",
      "Now checking possible divisor  7\n",
      "Now checking possible divisor  8\n",
      "Now checking possible divisor  9\n",
      "Now checking possible divisor  10\n",
      "Now checking possible divisor  11\n",
      "Now checking possible divisor  12\n",
      "13 is prime.\n"
     ]
    }
   ],
   "source": [
    "x = int(input(\"Enter a number: \"))\n",
    "prime = True\n",
    "\n",
    "for i in range(2, x):\n",
    "    # check if i divides x.\n",
    "    print(\"Now checking possible divisor \", i)\n",
    "    if x % i  == 0:\n",
    "        # now I know x is not prime.\n",
    "        prime = False\n",
    "        break\n",
    "        \n",
    "if prime == True:\n",
    "    print(x, \"is prime.\")\n",
    "else:\n",
    "    print(x, \"is not prime.\")"
   ]
  },
  {
   "cell_type": "code",
   "execution_count": 15,
   "metadata": {},
   "outputs": [
    {
     "name": "stdout",
     "output_type": "stream",
     "text": [
      "Enter a number: 4\n",
      "Now checking possible divisor  2\n",
      "4 is not prime.\n"
     ]
    }
   ],
   "source": [
    "x = int(input(\"Enter a number: \"))\n",
    "\n",
    "for i in range(2, x):\n",
    "    # check if i divides x.\n",
    "    print(\"Now checking possible divisor \", i)\n",
    "    if x % i  == 0:\n",
    "        print(x, \"is not prime.\")\n",
    "        break\n",
    "else: \n",
    "    #only works if it ends normally / doesn't \"break\"\n",
    "    print(x, \"is prime.\")"
   ]
  },
  {
   "cell_type": "markdown",
   "metadata": {},
   "source": [
    "Example: are the vowels in a word in alphabetical order?"
   ]
  },
  {
   "cell_type": "code",
   "execution_count": 29,
   "metadata": {},
   "outputs": [
    {
     "name": "stdout",
     "output_type": "stream",
     "text": [
      "Enter a word: Irene\n",
      "i\n",
      "e\n",
      "The vowels in irene are out of order.\n"
     ]
    }
   ],
   "source": [
    "word = input(\"Enter a word: \").lower()\n",
    "last = \"a\"\n",
    "\n",
    "for letter in word:\n",
    "    if letter in \"aeiou\":\n",
    "        print(letter)\n",
    "        \n",
    "        #check to see if order looks good\n",
    "        if letter < last:\n",
    "            print(\"The vowels in\", word, \"are out of order.\")\n",
    "            break\n",
    "        last = letter\n",
    "else:\n",
    "    print(\"The vowels in\", word, \"are in order.\")"
   ]
  },
  {
   "cell_type": "code",
   "execution_count": 30,
   "metadata": {},
   "outputs": [
    {
     "name": "stdout",
     "output_type": "stream",
     "text": [
      "Enter a word: Irene\n",
      "i\n",
      "e\n",
      "The vowels in irene are out of order.\n"
     ]
    }
   ],
   "source": [
    "word = input(\"Enter a word: \").lower()\n",
    "last = \"a\"\n",
    "\n",
    "for letter in word:\n",
    "    if letter not in \"aeiou\":\n",
    "        continue\n",
    "    \n",
    "    print(letter)\n",
    "        \n",
    "        #check to see if order looks good\n",
    "    if letter < last:\n",
    "        print(\"The vowels in\", word, \"are out of order.\")\n",
    "        break\n",
    "    last = letter\n",
    "else:\n",
    "    print(\"The vowels in\", word, \"are in order.\")"
   ]
  }
 ],
 "metadata": {
  "kernelspec": {
   "display_name": "Python 3",
   "language": "python",
   "name": "python3"
  },
  "language_info": {
   "codemirror_mode": {
    "name": "ipython",
    "version": 3
   },
   "file_extension": ".py",
   "mimetype": "text/x-python",
   "name": "python",
   "nbconvert_exporter": "python",
   "pygments_lexer": "ipython3",
   "version": "3.6.3"
  }
 },
 "nbformat": 4,
 "nbformat_minor": 2
}
