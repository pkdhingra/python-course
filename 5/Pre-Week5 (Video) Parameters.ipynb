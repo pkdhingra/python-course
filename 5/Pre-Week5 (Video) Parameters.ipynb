{
 "cells": [
  {
   "cell_type": "markdown",
   "metadata": {},
   "source": [
    "# Parameters"
   ]
  },
  {
   "cell_type": "code",
   "execution_count": 5,
   "metadata": {
    "collapsed": true
   },
   "outputs": [],
   "source": [
    "def feedback(grade, comment = \"\"):\n",
    "    if grade >= 90 and grade <= 100:\n",
    "        return(\"A \" + comment)\n",
    "    elif grade >= 80 and grade < 90:\n",
    "        return(\"B \" + comment)\n",
    "    elif grade >= 70 and grade < 80:\n",
    "        return(\"C \" + comment)\n",
    "    elif grade >= 60 and grade < 70:\n",
    "        return(\"D \" + comment)\n",
    "    else:\n",
    "        return(\"F \" + comment)"
   ]
  },
  {
   "cell_type": "code",
   "execution_count": 6,
   "metadata": {},
   "outputs": [
    {
     "name": "stdout",
     "output_type": "stream",
     "text": [
      "A Great work!\n"
     ]
    }
   ],
   "source": [
    "print(feedback(90, \"Great work!\"))"
   ]
  },
  {
   "cell_type": "code",
   "execution_count": 7,
   "metadata": {},
   "outputs": [
    {
     "name": "stdout",
     "output_type": "stream",
     "text": [
      "B \n"
     ]
    }
   ],
   "source": [
    "print(feedback(80))"
   ]
  },
  {
   "cell_type": "code",
   "execution_count": 8,
   "metadata": {},
   "outputs": [
    {
     "name": "stdout",
     "output_type": "stream",
     "text": [
      "C Please study more\n"
     ]
    }
   ],
   "source": [
    "print(feedback(75, \"Please study more\"))"
   ]
  },
  {
   "cell_type": "code",
   "execution_count": 10,
   "metadata": {},
   "outputs": [
    {
     "name": "stdout",
     "output_type": "stream",
     "text": [
      "F \n"
     ]
    }
   ],
   "source": [
    "print(feedback(50))"
   ]
  },
  {
   "cell_type": "code",
   "execution_count": 11,
   "metadata": {},
   "outputs": [
    {
     "data": {
      "text/plain": [
       "NoneType"
      ]
     },
     "execution_count": 11,
     "metadata": {},
     "output_type": "execute_result"
    }
   ],
   "source": [
    "type(None)"
   ]
  },
  {
   "cell_type": "code",
   "execution_count": 17,
   "metadata": {
    "collapsed": true
   },
   "outputs": [],
   "source": [
    "def feedback(grade = None, comment = None):\n",
    "    text = \"\" if comment == None else \" - \" + comment\n",
    "    \n",
    "    if grade == None:\n",
    "        return(\"Grade is missing. \" + text)\n",
    "    elif grade >= 90 and grade <= 100:\n",
    "        return(\"A \" + text)\n",
    "    elif grade >= 80 and grade < 90:\n",
    "        return(\"B \" + text)\n",
    "    elif grade >= 70 and grade < 80:\n",
    "        return(\"C \" + text)\n",
    "    elif grade >= 60 and grade < 70:\n",
    "        return(\"D \" + text)\n",
    "    else:\n",
    "        return(\"F \" + text)"
   ]
  },
  {
   "cell_type": "code",
   "execution_count": 13,
   "metadata": {},
   "outputs": [
    {
     "name": "stdout",
     "output_type": "stream",
     "text": [
      "A  - Great work!\n"
     ]
    }
   ],
   "source": [
    "print(feedback(90, \"Great work!\"))"
   ]
  },
  {
   "cell_type": "code",
   "execution_count": 14,
   "metadata": {},
   "outputs": [
    {
     "name": "stdout",
     "output_type": "stream",
     "text": [
      "B \n"
     ]
    }
   ],
   "source": [
    "print(feedback(80))"
   ]
  },
  {
   "cell_type": "code",
   "execution_count": 15,
   "metadata": {},
   "outputs": [
    {
     "name": "stdout",
     "output_type": "stream",
     "text": [
      "C  - Please study more\n"
     ]
    }
   ],
   "source": [
    "print(feedback(75, \"Please study more\"))"
   ]
  },
  {
   "cell_type": "code",
   "execution_count": 18,
   "metadata": {},
   "outputs": [
    {
     "name": "stdout",
     "output_type": "stream",
     "text": [
      "Grade is missing. \n"
     ]
    }
   ],
   "source": [
    "print(feedback())"
   ]
  },
  {
   "cell_type": "code",
   "execution_count": 19,
   "metadata": {
    "collapsed": true
   },
   "outputs": [],
   "source": [
    "def add_total(order_list = []):\n",
    "    total = sum([quantity for name, quantity in order_list])\n",
    "    order_list.append((\"Total\",total))\n",
    "    print(order_list)"
   ]
  },
  {
   "cell_type": "code",
   "execution_count": 21,
   "metadata": {},
   "outputs": [
    {
     "name": "stdout",
     "output_type": "stream",
     "text": [
      "[('Bob', 8), ('Teri', 3), ('Pat', 4), ('Total', 15)]\n"
     ]
    }
   ],
   "source": [
    "order_list = [(\"Bob\",8),(\"Teri\",3),(\"Pat\",4)]\n",
    "add_total(order_list)"
   ]
  },
  {
   "cell_type": "code",
   "execution_count": 22,
   "metadata": {},
   "outputs": [
    {
     "name": "stdout",
     "output_type": "stream",
     "text": [
      "[('Total', 0)]\n"
     ]
    }
   ],
   "source": [
    "add_total()"
   ]
  },
  {
   "cell_type": "code",
   "execution_count": 23,
   "metadata": {},
   "outputs": [
    {
     "name": "stdout",
     "output_type": "stream",
     "text": [
      "[('Total', 0), ('Total', 0)]\n"
     ]
    }
   ],
   "source": [
    "add_total()"
   ]
  },
  {
   "cell_type": "markdown",
   "metadata": {},
   "source": [
    "# Keyword arguments"
   ]
  },
  {
   "cell_type": "code",
   "execution_count": 24,
   "metadata": {},
   "outputs": [
    {
     "name": "stdout",
     "output_type": "stream",
     "text": [
      "A  - Keep it up\n"
     ]
    }
   ],
   "source": [
    "print(feedback(90, comment = \"Keep it up\"))"
   ]
  },
  {
   "cell_type": "code",
   "execution_count": 25,
   "metadata": {},
   "outputs": [
    {
     "name": "stdout",
     "output_type": "stream",
     "text": [
      "B  - Not bad.\n"
     ]
    }
   ],
   "source": [
    "print(feedback(comment=\"Not bad.\", grade = 88))"
   ]
  },
  {
   "cell_type": "code",
   "execution_count": 28,
   "metadata": {},
   "outputs": [
    {
     "name": "stdout",
     "output_type": "stream",
     "text": [
      "Default\n",
      "print\n",
      "behavior.\n",
      "Modified print behavior."
     ]
    }
   ],
   "source": [
    "print(\"Default\")\n",
    "print(\"print\")\n",
    "print(\"behavior.\")\n",
    "print(\"Modified\", end = \" \")\n",
    "print(\"print\", end= \" \")\n",
    "print(\"behavior\", end= \".\")"
   ]
  },
  {
   "cell_type": "code",
   "execution_count": 32,
   "metadata": {
    "collapsed": true
   },
   "outputs": [],
   "source": [
    "def round10(x):\n",
    "    return (x+5) // 10 * 10"
   ]
  },
  {
   "cell_type": "code",
   "execution_count": 33,
   "metadata": {},
   "outputs": [
    {
     "data": {
      "text/plain": [
       "function"
      ]
     },
     "execution_count": 33,
     "metadata": {},
     "output_type": "execute_result"
    }
   ],
   "source": [
    "type(round10)"
   ]
  },
  {
   "cell_type": "code",
   "execution_count": 34,
   "metadata": {},
   "outputs": [
    {
     "data": {
      "text/plain": [
       "10"
      ]
     },
     "execution_count": 34,
     "metadata": {},
     "output_type": "execute_result"
    }
   ],
   "source": [
    "a = round10\n",
    "a(12)"
   ]
  },
  {
   "cell_type": "code",
   "execution_count": null,
   "metadata": {
    "collapsed": true
   },
   "outputs": [],
   "source": [
    "def apply_to_grades(operation,grade_list):\n",
    "    return [(name,operation(grade)) for name, grade in g]"
   ]
  }
 ],
 "metadata": {
  "kernelspec": {
   "display_name": "Python 3",
   "language": "python",
   "name": "python3"
  },
  "language_info": {
   "codemirror_mode": {
    "name": "ipython",
    "version": 3
   },
   "file_extension": ".py",
   "mimetype": "text/x-python",
   "name": "python",
   "nbconvert_exporter": "python",
   "pygments_lexer": "ipython3",
   "version": "3.6.3"
  }
 },
 "nbformat": 4,
 "nbformat_minor": 2
}
