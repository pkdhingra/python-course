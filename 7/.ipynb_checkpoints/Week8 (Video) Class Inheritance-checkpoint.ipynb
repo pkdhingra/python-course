{
 "cells": [
  {
   "cell_type": "markdown",
   "metadata": {},
   "source": [
    "# Class Inheritance\n",
    "\n",
    "## Simulations\n",
    "\n",
    "Stochastic Process\n",
    "(discrete time) stochastic process\n",
    "$x_1$ $x_2$ ...\n",
    "\n",
    "1. Stock price over time\n",
    "2. measurements of solar radiation for each day\n",
    "3. average planetary surface temperature"
   ]
  },
  {
   "cell_type": "code",
   "execution_count": 27,
   "metadata": {
    "collapsed": true
   },
   "outputs": [],
   "source": [
    "class Process:\n",
    "    \"\"\"Representation of Stochastic Process\"\"\"\n",
    "    \n",
    "    def __init__(self, start_value = 0):\n",
    "        self.value = start_value\n",
    "        \n",
    "    def time_step(self):\n",
    "        pass"
   ]
  },
  {
   "cell_type": "markdown",
   "metadata": {},
   "source": [
    "class Process:\n",
    "    \"\"\"Representation of Stochastic Process\"\"\"\n",
    "    \n",
    "    def __init__(self, start_value = 0):\n",
    "        self.value = start_value\n",
    "        \n",
    "    def time_step(self):\n",
    "        raise NotImplementedError()"
   ]
  },
  {
   "cell_type": "code",
   "execution_count": 31,
   "metadata": {
    "collapsed": true
   },
   "outputs": [],
   "source": [
    "class BoundedLinearProcess(Process):\n",
    "    \"\"\"A stochastic process that develops linearly. Increases\n",
    "    by velocity in every time period, but is bounded between 0 and 1.\"\"\"\n",
    "    \n",
    "    def __init__(self, start_value = 0, velocity = 0):\n",
    "        super().__init__(start_value)\n",
    "        self.velocity = velocity\n",
    "        \n",
    "    def time_step(self):\n",
    "        self.value += self.velocity\n",
    "        if self.value < 0:\n",
    "            self.value = -self.value\n",
    "            self.velocity = -self.velocity\n",
    "        if self.value > 1:\n",
    "            self.value = 1 - (self.value - 1)\n",
    "            self.velocity = -self.velocity\n",
    "        super().time_step"
   ]
  },
  {
   "cell_type": "code",
   "execution_count": 33,
   "metadata": {},
   "outputs": [
    {
     "name": "stdout",
     "output_type": "stream",
     "text": [
      "<__main__.BoundedLinearProcess object at 0x108b7e278>\n"
     ]
    }
   ],
   "source": [
    "p1 = BoundedLinearProcess(0,.3)\n",
    "print(p1)"
   ]
  },
  {
   "cell_type": "code",
   "execution_count": 34,
   "metadata": {},
   "outputs": [
    {
     "name": "stdout",
     "output_type": "stream",
     "text": [
      "Current process value: 0.3\n",
      "Current process value: 0.6\n",
      "Current process value: 0.8999999999999999\n"
     ]
    }
   ],
   "source": [
    "for i in range(3):\n",
    "    p1.time_step()\n",
    "    print(\"Current process value:\", p1.value)"
   ]
  },
  {
   "cell_type": "code",
   "execution_count": 35,
   "metadata": {
    "collapsed": true
   },
   "outputs": [],
   "source": [
    "class Process:\n",
    "    \"\"\"Representation of Stochastic Process\"\"\"\n",
    "    \n",
    "    def __init__(self, start_value = 0):\n",
    "        self.value = start_value\n",
    "        \n",
    "    def time_step(self):\n",
    "        pass\n",
    "    \n",
    "    def __str__(self):\n",
    "        return \"Process with current value \" +str(self.value)\n",
    "    \n",
    "#     def __repr__(self):\n",
    "#         return __str__(self)"
   ]
  },
  {
   "cell_type": "code",
   "execution_count": 36,
   "metadata": {},
   "outputs": [
    {
     "name": "stdout",
     "output_type": "stream",
     "text": [
      "<__main__.BoundedLinearProcess object at 0x108b94860>\n"
     ]
    }
   ],
   "source": [
    "p1 = BoundedLinearProcess(0,.3)\n",
    "print(p1)"
   ]
  },
  {
   "cell_type": "code",
   "execution_count": 37,
   "metadata": {},
   "outputs": [
    {
     "name": "stdout",
     "output_type": "stream",
     "text": [
      "<__main__.BoundedLinearProcess object at 0x108b94860>\n",
      "<__main__.BoundedLinearProcess object at 0x108b94860>\n",
      "<__main__.BoundedLinearProcess object at 0x108b94860>\n"
     ]
    }
   ],
   "source": [
    "for i in range(3):\n",
    "    p1.time_step()\n",
    "    print(p1)"
   ]
  },
  {
   "cell_type": "code",
   "execution_count": 38,
   "metadata": {
    "collapsed": true
   },
   "outputs": [],
   "source": [
    "class BoundedLinearProcess(Process):\n",
    "    \"\"\"A stochastic process that develops linearly. Increases\n",
    "    by velocity in every time period, but is bounded between 0 and 1.\"\"\"\n",
    "    \n",
    "    def __init__(self, start_value = 0, velocity = 0):\n",
    "        super().__init__(start_value)\n",
    "        self.velocity = velocity\n",
    "        \n",
    "    def time_step(self):\n",
    "        self.value += self.velocity\n",
    "        if self.value < 0:\n",
    "            self.value = -self.value\n",
    "            self.velocity = -self.velocity\n",
    "        if self.value > 1:\n",
    "            self.value = 1 - (self.value - 1)\n",
    "            self.velocity = -self.velocity\n",
    "        super().time_stepp\n",
    "        \n",
    "    def __str__(self):\n",
    "        return \" \" * int(self.value*20) + \"*\""
   ]
  },
  {
   "cell_type": "markdown",
   "metadata": {},
   "source": [
    "## More on Inheritance\n",
    "\n",
    "Autoregressive Process of order 1.\n",
    "\n",
    "AR(1)\n",
    "\n",
    "$x_t = \\alpha x_{t-1} + w_t$"
   ]
  },
  {
   "cell_type": "code",
   "execution_count": 40,
   "metadata": {
    "collapsed": true
   },
   "outputs": [],
   "source": [
    "class Process:\n",
    "    \"\"\"Representation of Stochastic Process\"\"\"\n",
    "    \n",
    "    def __init__(self, start_value = 0):\n",
    "        self.value = start_value\n",
    "        \n",
    "    def time_step(self):\n",
    "        pass\n",
    "    \n",
    "    def __str__(self):\n",
    "        return \"Process with current value \" +str(self.value)\n",
    "    \n",
    "    def simulate(self, steps = 20):\n",
    "        for i in range(steps):\n",
    "            print(self)\n",
    "            self.time_step()"
   ]
  },
  {
   "cell_type": "code",
   "execution_count": 41,
   "metadata": {
    "collapsed": true
   },
   "outputs": [],
   "source": [
    "class BoundedLinearProcess(Process):\n",
    "    \"\"\"A stochastic process that develops linearly. Increases\n",
    "    by velocity in every time period, but is bounded between 0 and 1.\"\"\"\n",
    "    \n",
    "    def __init__(self, start_value = 0, velocity = 0):\n",
    "        super().__init__(start_value)\n",
    "        self.velocity = velocity\n",
    "        \n",
    "    def time_step(self):\n",
    "        self.value += self.velocity\n",
    "        if self.value < 0:\n",
    "            self.value = -self.value\n",
    "            self.velocity = -self.velocity\n",
    "        if self.value > 1:\n",
    "            self.value = 1 - (self.value - 1)\n",
    "            self.velocity = -self.velocity\n",
    "        super().time_step\n",
    "        \n",
    "    def __str__(self):\n",
    "        return \" \" * int(self.value*20) + \"*\""
   ]
  },
  {
   "cell_type": "code",
   "execution_count": 42,
   "metadata": {
    "collapsed": true
   },
   "outputs": [],
   "source": [
    "import numpy as np\n",
    "\n",
    "class ARProcess(Process):\n",
    "    \n",
    "    def __init__(self, alpha = 0.5, sigma = 1, start_value = 0):\n",
    "        super().__init__(start_value)\n",
    "        self.alpha = alpha\n",
    "        self.sigma = sigma\n",
    "        \n",
    "    def time_step(self):\n",
    "        self.value = self.alpha * self.value + np.random.normal(scale = self.sigma)\n",
    "        super().time_step\n",
    "    \n",
    "    # Overriding str function in super class\n",
    "    def __str__(self):\n",
    "        if self.value < 0:\n",
    "            s = \" \" * int(5*(self.value + 3)) + \"*\" + \" \" * int(-self.value * 5) + \"|\"\n",
    "        elif self.value == 0:\n",
    "            s = \" \" * 15 + \"*\"\n",
    "        else:\n",
    "            s = \" \" * 15 + \"|\" + \" \" * int(5 * self.value) + \"*\"\n",
    "        return s"
   ]
  },
  {
   "cell_type": "code",
   "execution_count": 43,
   "metadata": {
    "collapsed": true
   },
   "outputs": [],
   "source": [
    "p1 = BoundedLinearProcess(0,0.1)\n",
    "p2 = ARProcess(alpha = 0.9)"
   ]
  },
  {
   "cell_type": "code",
   "execution_count": 44,
   "metadata": {},
   "outputs": [
    {
     "name": "stdout",
     "output_type": "stream",
     "text": [
      "*\n",
      "  *\n",
      "    *\n",
      "      *\n",
      "        *\n",
      "          *\n",
      "            *\n",
      "              *\n",
      "               *\n",
      "                  *\n",
      "                   *\n",
      "                  *\n",
      "                *\n",
      "              *\n",
      "            *\n",
      "          *\n",
      "        *\n",
      "      *\n",
      "    *\n",
      "  *\n",
      "*\n",
      " *\n",
      "   *\n",
      "     *\n",
      "       *\n",
      "         *\n",
      "           *\n",
      "             *\n",
      "               *\n",
      "                 *\n"
     ]
    }
   ],
   "source": [
    "p1.simulate(30)"
   ]
  },
  {
   "cell_type": "code",
   "execution_count": 45,
   "metadata": {},
   "outputs": [
    {
     "name": "stdout",
     "output_type": "stream",
     "text": [
      "               *\n",
      "               |*\n",
      "  *            |\n",
      "         *     |\n",
      "         *     |\n",
      "          *    |\n",
      "          *    |\n",
      "               |*\n",
      "               |           *\n",
      "               |               *\n",
      "               |               *\n",
      "               |        *\n",
      "               |        *\n",
      "               |      *\n",
      "               |      *\n",
      "               |       *\n",
      "               |        *\n",
      "               |            *\n",
      "               |  *\n",
      "             * |\n",
      "            *  |\n",
      "            *  |\n",
      "         *     |\n",
      "             * |\n",
      "             * |\n",
      "            *  |\n",
      "           *   |\n",
      "               |     *\n",
      "               |        *\n",
      "               |       *\n"
     ]
    }
   ],
   "source": [
    "p2.simulate(30)"
   ]
  },
  {
   "cell_type": "markdown",
   "metadata": {},
   "source": [
    "Random Walk\n",
    "\n",
    "$x_t = x_{t-1} + w_t$"
   ]
  },
  {
   "cell_type": "code",
   "execution_count": 46,
   "metadata": {
    "collapsed": true
   },
   "outputs": [],
   "source": [
    "class RandomWalk(ARProcess):\n",
    "    \n",
    "    def __init__(self, sigma = 1):\n",
    "        super().__init__(alpha = 1, sigma = sigma)"
   ]
  },
  {
   "cell_type": "code",
   "execution_count": 47,
   "metadata": {},
   "outputs": [
    {
     "name": "stdout",
     "output_type": "stream",
     "text": [
      "               *\n",
      "               |        *\n",
      "               |   *\n",
      "               | *\n",
      "               |           *\n",
      "               |           *\n",
      "               |                 *\n",
      "               |                             *\n",
      "               |                          *\n",
      "               |                        *\n",
      "               |                       *\n",
      "               |                           *\n",
      "               |              *\n",
      "               |              *\n",
      "               |   *\n",
      "               |   *\n",
      "               |       *\n",
      "               |                *\n",
      "               |             *\n",
      "               |                     *\n"
     ]
    }
   ],
   "source": [
    "p3 = RandomWalk()\n",
    "p3.simulate()"
   ]
  }
 ],
 "metadata": {
  "kernelspec": {
   "display_name": "Python 3",
   "language": "python",
   "name": "python3"
  },
  "language_info": {
   "codemirror_mode": {
    "name": "ipython",
    "version": 3
   },
   "file_extension": ".py",
   "mimetype": "text/x-python",
   "name": "python",
   "nbconvert_exporter": "python",
   "pygments_lexer": "ipython3",
   "version": "3.6.3"
  }
 },
 "nbformat": 4,
 "nbformat_minor": 2
}
