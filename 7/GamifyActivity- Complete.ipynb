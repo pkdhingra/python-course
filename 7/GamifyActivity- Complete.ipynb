{
 "cells": [
  {
   "cell_type": "markdown",
   "metadata": {},
   "source": [
    "# Unit 8 Live Session - Breakout Activities\n",
    "\n",
    "Let's have some fun with object oriented programming!\n",
    "\n",
    "For the first half of this activity, we'll give you some code.  Please review this workbook as a team and discuss each module.  Please actually discuss each line and why it is set up the way it is.\n",
    "\n",
    "Let's start with a simple base class Pet and subclasses Cat and Dog:\n"
   ]
  },
  {
   "cell_type": "code",
   "execution_count": 1,
   "metadata": {},
   "outputs": [],
   "source": [
    "from IPython.display import Image, display"
   ]
  },
  {
   "cell_type": "markdown",
   "metadata": {},
   "source": [
    "## define the base class"
   ]
  },
  {
   "cell_type": "code",
   "execution_count": 2,
   "metadata": {},
   "outputs": [],
   "source": [
    "class Pet():\n",
    "    \n",
    "    def __init__(self, name):\n",
    "        self.name = name\n",
    "        self.owner = None\n",
    "        self.image_path = None\n",
    "        self.noise = None\n",
    "        \n",
    "    def display_image(self):\n",
    "        if self.image_path is not None:\n",
    "            display(Image(filename=self.image_path))\n",
    "            \n",
    "    def make_noise(self):\n",
    "        if self.noise is not None:\n",
    "            print(self.noise)\n",
    "    \n",
    "    def eat(self,food):\n",
    "        self.food = food\n",
    "        print(\"Your Pet ate a {}\".format(self.food))\n",
    "    "
   ]
  },
  {
   "cell_type": "markdown",
   "metadata": {},
   "source": [
    "## define the subclasses\n",
    "\n",
    "Please discuss as a team how inheritence works in the sample codes below.  Specifically:\n",
    "- Why do we use Pet., self., and Dog. in different places?"
   ]
  },
  {
   "cell_type": "code",
   "execution_count": 3,
   "metadata": {},
   "outputs": [],
   "source": [
    "class Dog(Pet):\n",
    "    \n",
    "    count = 0 # class variable to keep track of how many dogs we have\n",
    "    \n",
    "    def __init__(self, name, breed):\n",
    "        Pet.__init__(self,name)\n",
    "        self.breed = breed\n",
    "        Dog.count += 1\n",
    "        self.noise = \"woof woof\" # generic dog noise\n",
    "        "
   ]
  },
  {
   "cell_type": "code",
   "execution_count": 4,
   "metadata": {},
   "outputs": [],
   "source": [
    "class Cat(Pet):\n",
    "    \n",
    "    count = 0\n",
    "    \n",
    "    def __init__(self, name, breed):\n",
    "        Pet.__init__(self,name)\n",
    "        self.breed = breed\n",
    "        Cat.count += 1\n",
    "        self.noise = \"meow\" # generic cat noise\n",
    "    \n",
    "    def hairballs(self, size):\n",
    "        print(\"Eww, that was a {} hairball\".format(size))\n",
    "    \n"
   ]
  },
  {
   "cell_type": "markdown",
   "metadata": {},
   "source": [
    "## create some instances of our subclasses\n",
    "\n",
    "Let's build some pets!\n",
    "\n",
    "Notice how we never actually create an instance of the base class."
   ]
  },
  {
   "cell_type": "code",
   "execution_count": 5,
   "metadata": {},
   "outputs": [
    {
     "name": "stdout",
     "output_type": "stream",
     "text": [
      "woof woof\n"
     ]
    }
   ],
   "source": [
    "# a new dog\n",
    "d = Dog('Muttley', 'mutt')\n",
    "d.owner = 'Dick Dastardly'\n",
    "# d.image_path = 'muttley.jpg'\n",
    "d.display_image()\n",
    "d.make_noise()"
   ]
  },
  {
   "cell_type": "code",
   "execution_count": 6,
   "metadata": {},
   "outputs": [
    {
     "data": {
      "text/plain": [
       "{'name': 'Muttley',\n",
       " 'owner': 'Dick Dastardly',\n",
       " 'image_path': None,\n",
       " 'noise': 'woof woof',\n",
       " 'breed': 'mutt',\n",
       " 'color': 'brown'}"
      ]
     },
     "execution_count": 6,
     "metadata": {},
     "output_type": "execute_result"
    }
   ],
   "source": [
    "# it is possible put new member variable into the class .. but not recommended.\n",
    "d.color = 'brown'\n",
    "\n",
    "# you can see all the member variables this way\n",
    "d.__dict__"
   ]
  },
  {
   "cell_type": "code",
   "execution_count": 7,
   "metadata": {},
   "outputs": [
    {
     "name": "stdout",
     "output_type": "stream",
     "text": [
      "meow\n"
     ]
    }
   ],
   "source": [
    "# a new cat\n",
    "c = Cat('MAD', 'cartoon')\n",
    "c.owner = 'Dr Claw'\n",
    "# c.image_path = 'Doctor_Claw.jpg'\n",
    "c.display_image()\n",
    "c.make_noise()"
   ]
  },
  {
   "cell_type": "code",
   "execution_count": 8,
   "metadata": {},
   "outputs": [
    {
     "name": "stdout",
     "output_type": "stream",
     "text": [
      "scooby dooby dooooo\n"
     ]
    }
   ],
   "source": [
    "# another dog\n",
    "d2 = Dog('Scooby Doo', 'great dane')\n",
    "d2.owner = 'Shaggy'\n",
    "d2.image_path = 'scooby.png'\n",
    "#d2.display_image()\n",
    "d2.noise = \"scooby dooby dooooo\"\n",
    "d2.make_noise()"
   ]
  },
  {
   "cell_type": "markdown",
   "metadata": {},
   "source": [
    "### using static variables"
   ]
  },
  {
   "cell_type": "code",
   "execution_count": 9,
   "metadata": {},
   "outputs": [
    {
     "name": "stdout",
     "output_type": "stream",
     "text": [
      "2\n"
     ]
    }
   ],
   "source": [
    "# how many dogs do we have?\n",
    "# Dog.count is a static member variable \n",
    "print(Dog.count)"
   ]
  },
  {
   "cell_type": "markdown",
   "metadata": {},
   "source": [
    "### using instances of our classes\n",
    "\n",
    "Please talk through the code below.  It is subtle.  What is the \"cls\" function doing!??\n",
    "\n",
    "Note - this part of the code will not work in Python 2.0."
   ]
  },
  {
   "cell_type": "code",
   "execution_count": 10,
   "metadata": {},
   "outputs": [],
   "source": [
    "def make_baby(pet1, pet2, name):\n",
    "    # check for compatible species\n",
    "    if type(pet1) == type(pet2):\n",
    "        cls = type(pet1)\n",
    "        if pet1.breed == pet2.breed:\n",
    "            # pure breed\n",
    "            new_breed = pet1.breed\n",
    "        else:\n",
    "            # mixed breed\n",
    "            new_breed = pet1.breed + '-' + pet2.breed\n",
    "        \n",
    "        baby = cls(name,new_breed)\n",
    "        return baby\n",
    "    else:\n",
    "        raise Exception(\"sorry, can't intermingle species\")"
   ]
  },
  {
   "cell_type": "code",
   "execution_count": 11,
   "metadata": {},
   "outputs": [
    {
     "data": {
      "text/plain": [
       "{'name': 'fred',\n",
       " 'owner': None,\n",
       " 'image_path': None,\n",
       " 'noise': 'woof woof',\n",
       " 'breed': 'mutt-great dane'}"
      ]
     },
     "execution_count": 11,
     "metadata": {},
     "output_type": "execute_result"
    }
   ],
   "source": [
    "# make one baby dog\n",
    "b = make_baby(d,d2,'fred')\n",
    "b.__dict__\n"
   ]
  },
  {
   "cell_type": "code",
   "execution_count": 12,
   "metadata": {},
   "outputs": [
    {
     "ename": "Exception",
     "evalue": "sorry, can't intermingle species",
     "output_type": "error",
     "traceback": [
      "\u001b[0;31m---------------------------------------------------------------------------\u001b[0m",
      "\u001b[0;31mException\u001b[0m                                 Traceback (most recent call last)",
      "\u001b[0;32m/var/folders/b2/p1xf076x7h36q6dg3vmqb7wh0000gn/T/ipykernel_12280/539523138.py\u001b[0m in \u001b[0;36m<module>\u001b[0;34m\u001b[0m\n\u001b[1;32m      1\u001b[0m \u001b[0;31m# try to make a dog-cat baby\u001b[0m\u001b[0;34m\u001b[0m\u001b[0;34m\u001b[0m\u001b[0m\n\u001b[0;32m----> 2\u001b[0;31m \u001b[0mb2\u001b[0m \u001b[0;34m=\u001b[0m \u001b[0mmake_baby\u001b[0m\u001b[0;34m(\u001b[0m\u001b[0md\u001b[0m\u001b[0;34m,\u001b[0m\u001b[0mc\u001b[0m\u001b[0;34m,\u001b[0m\u001b[0;34m'jeff'\u001b[0m\u001b[0;34m)\u001b[0m\u001b[0;34m\u001b[0m\u001b[0;34m\u001b[0m\u001b[0m\n\u001b[0m",
      "\u001b[0;32m/var/folders/b2/p1xf076x7h36q6dg3vmqb7wh0000gn/T/ipykernel_12280/3904234915.py\u001b[0m in \u001b[0;36mmake_baby\u001b[0;34m(pet1, pet2, name)\u001b[0m\n\u001b[1;32m     13\u001b[0m         \u001b[0;32mreturn\u001b[0m \u001b[0mbaby\u001b[0m\u001b[0;34m\u001b[0m\u001b[0;34m\u001b[0m\u001b[0m\n\u001b[1;32m     14\u001b[0m     \u001b[0;32melse\u001b[0m\u001b[0;34m:\u001b[0m\u001b[0;34m\u001b[0m\u001b[0;34m\u001b[0m\u001b[0m\n\u001b[0;32m---> 15\u001b[0;31m         \u001b[0;32mraise\u001b[0m \u001b[0mException\u001b[0m\u001b[0;34m(\u001b[0m\u001b[0;34m\"sorry, can't intermingle species\"\u001b[0m\u001b[0;34m)\u001b[0m\u001b[0;34m\u001b[0m\u001b[0;34m\u001b[0m\u001b[0m\n\u001b[0m",
      "\u001b[0;31mException\u001b[0m: sorry, can't intermingle species"
     ]
    }
   ],
   "source": [
    "# try to make a dog-cat baby\n",
    "b2 = make_baby(d,c,'jeff')"
   ]
  },
  {
   "cell_type": "markdown",
   "metadata": {},
   "source": [
    "## things to do now\n",
    "\n",
    "* make another subclass for another kind of pet"
   ]
  },
  {
   "cell_type": "code",
   "execution_count": 13,
   "metadata": {},
   "outputs": [],
   "source": [
    "class Horse(Pet):\n",
    "    \n",
    "    count = 0 # class variable to keep track of how many horses we have\n",
    "    \n",
    "    def __init__(self, name, breed):\n",
    "        Pet.__init__(self,name)\n",
    "        self.breed = breed\n",
    "        Horse.count += 1\n",
    "        self.noise = \"Neigh Neigh\" # generic Horse noise"
   ]
  },
  {
   "cell_type": "markdown",
   "metadata": {},
   "source": [
    "* add a method to Pet that applies to all pets"
   ]
  },
  {
   "cell_type": "code",
   "execution_count": 14,
   "metadata": {},
   "outputs": [
    {
     "name": "stdout",
     "output_type": "stream",
     "text": [
      "Your Pet ate a Carrott\n"
     ]
    }
   ],
   "source": [
    "h = Horse('Chester', 'Chesnut')\n",
    "h.eat('Carrott')"
   ]
  },
  {
   "cell_type": "markdown",
   "metadata": {},
   "source": [
    "* add at least one new method to Dog and Cat that is specific to that pet"
   ]
  },
  {
   "cell_type": "code",
   "execution_count": 15,
   "metadata": {},
   "outputs": [
    {
     "name": "stdout",
     "output_type": "stream",
     "text": [
      "Eww, that was a large hairball\n"
     ]
    }
   ],
   "source": [
    "c.hairballs('large')"
   ]
  },
  {
   "cell_type": "markdown",
   "metadata": {},
   "source": [
    "# The Game section \n",
    "* Make a world and populate it with your animals\n",
    "\n",
    "* this exercise is based on this post  https://learnpythonthehardway.org/book/ex43.html\n",
    "* Here are some beginnier rooms which will load animals"
   ]
  },
  {
   "cell_type": "code",
   "execution_count": 16,
   "metadata": {},
   "outputs": [],
   "source": [
    "from sys import exit\n",
    "from random import randint\n",
    "\n",
    "# make rooms of different size that specify different number of encounters\n",
    "class Mapitem(object):\n",
    "    NPA = [c, d, d2, h] # possible non player animals objects              \n",
    "    def enter(self):\n",
    "        print (\"this is the base for rooms, the enter method is replaced\")\n",
    "        exit(1)\n",
    "\n",
    "#################################\n",
    "        \n",
    "class BigRoom(Mapitem):\n",
    "    \n",
    "    NumAnimals=3 # meet 3 non-player animals\n",
    "\n",
    "    def enter(self):\n",
    "        self.NumAnimal=3\n",
    "        print ('There are ', self.NumAnimal, ' ANIMALs in here!')\n",
    "        while self.NumAnimal > 0:\n",
    "            Animal= (self.NPA[randint(0, len(self.NPA)-1)])\n",
    "            Animal.make_noise()\n",
    "            self.NumAnimal -= 1\n",
    "    \n",
    "class MedRoom(Mapitem): #2 interactions\n",
    "    \n",
    "    NumAnimals=2 # meet 2 non-player animals\n",
    "\n",
    "    def enter(self):\n",
    "\n",
    "        self.NumAnimal=2\n",
    "        print ('There are ', self.NumAnimal, ' ANIMALs in here!')\n",
    "        while self.NumAnimal > 0:\n",
    "            Animal= (self.NPA[randint(0, len(self.NPA)-1)])\n",
    "            Animal.make_noise()\n",
    "            self.NumAnimal -= 1\n",
    "        return 'SmRoom'\n",
    "\n",
    "class SmRoom(Mapitem): #1 interaction\n",
    "\n",
    "    def enter(self):\n",
    "        self.NumAnimal=1\n",
    "        print ('There is ', self.NumAnimal, ' ANIMAL in here!')\n",
    "        while self.NumAnimal > 0:\n",
    "            Animal= (self.NPA[randint(0, len(self.NPA)-1)])\n",
    "            Animal.make_noise()\n",
    "            self.NumAnimal -= 1\n",
    "        return 'BigRoom'"
   ]
  },
  {
   "cell_type": "markdown",
   "metadata": {},
   "source": [
    "* Write code to initalize then go to three rooms of any size in series\n",
    "* Note that each room will print the name of a \"Next Room\". We will use that below..."
   ]
  },
  {
   "cell_type": "code",
   "execution_count": 17,
   "metadata": {},
   "outputs": [
    {
     "name": "stdout",
     "output_type": "stream",
     "text": [
      "There are  3  ANIMALs in here!\n",
      "woof woof\n",
      "Neigh Neigh\n",
      "meow\n"
     ]
    }
   ],
   "source": [
    "a = BigRoom()\n",
    "a.enter()"
   ]
  },
  {
   "cell_type": "markdown",
   "metadata": {},
   "source": [
    "* Use the output of the room object to go to specify the next room\n",
    "* Use the provided room dictionary to specify the object with just a string (e.g.'MedRoom')"
   ]
  },
  {
   "cell_type": "code",
   "execution_count": 18,
   "metadata": {},
   "outputs": [
    {
     "name": "stdout",
     "output_type": "stream",
     "text": [
      "There are  2  ANIMALs in here!\n",
      "scooby dooby dooooo\n",
      "woof woof\n",
      "There is  1  ANIMAL in here!\n",
      "woof woof\n",
      "There are  3  ANIMALs in here!\n",
      "Neigh Neigh\n",
      "Neigh Neigh\n",
      "meow\n"
     ]
    }
   ],
   "source": [
    "rooms = {'MedRoom': MedRoom(),'SmRoom': SmRoom(),'BigRoom': BigRoom()}\n",
    "\n",
    "# initialise the current room\n",
    "# enter the current room \n",
    "for i in rooms:\n",
    "    a = rooms[i]\n",
    "    a.enter()\n",
    "\n",
    "#print (\"I am going to the \", next_room_name)\n",
    "# reset the value of the current object to the next object\n",
    "# enter the current room "
   ]
  },
  {
   "cell_type": "code",
   "execution_count": null,
   "metadata": {},
   "outputs": [],
   "source": []
  },
  {
   "cell_type": "code",
   "execution_count": 19,
   "metadata": {},
   "outputs": [
    {
     "ename": "SyntaxError",
     "evalue": "invalid syntax (516211475.py, line 3)",
     "output_type": "error",
     "traceback": [
      "\u001b[0;36m  File \u001b[0;32m\"/var/folders/b2/p1xf076x7h36q6dg3vmqb7wh0000gn/T/ipykernel_12280/516211475.py\"\u001b[0;36m, line \u001b[0;32m3\u001b[0m\n\u001b[0;31m    - Refer to this example, which the game code is based on:\u001b[0m\n\u001b[0m            ^\u001b[0m\n\u001b[0;31mSyntaxError\u001b[0m\u001b[0;31m:\u001b[0m invalid syntax\n"
     ]
    }
   ],
   "source": [
    "# Advanced challenge \n",
    "\n",
    "- Refer to this example, which the game code is based on:\n",
    "http://learnpythonthehardway.org/book/ex43.html\n",
    "    \n",
    "#write ENGINE and MAP objects which will build the room objects \n",
    "#automatically as you move through the building "
   ]
  },
  {
   "cell_type": "code",
   "execution_count": null,
   "metadata": {},
   "outputs": [],
   "source": []
  },
  {
   "cell_type": "code",
   "execution_count": null,
   "metadata": {},
   "outputs": [],
   "source": []
  }
 ],
 "metadata": {
  "kernelspec": {
   "display_name": "Python 3 (ipykernel)",
   "language": "python",
   "name": "python3"
  },
  "language_info": {
   "codemirror_mode": {
    "name": "ipython",
    "version": 3
   },
   "file_extension": ".py",
   "mimetype": "text/x-python",
   "name": "python",
   "nbconvert_exporter": "python",
   "pygments_lexer": "ipython3",
   "version": "3.9.7"
  }
 },
 "nbformat": 4,
 "nbformat_minor": 1
}
