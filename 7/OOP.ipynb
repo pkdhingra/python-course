{
 "cells": [
  {
   "cell_type": "markdown",
   "metadata": {},
   "source": [
    "# Polymorphism"
   ]
  },
  {
   "cell_type": "code",
   "execution_count": 1,
   "metadata": {},
   "outputs": [],
   "source": [
    "import numpy as np\n",
    "\n",
    "class Process:\n",
    "    \n",
    "    def __init__(self, start_value = 0):\n",
    "        self.value = start_value\n",
    "        self.history = []\n",
    "        \n",
    "    def time_step(self):\n",
    "        self.history.append(self.value)\n",
    "    \n",
    "    def __str__(self):\n",
    "        return \"Process with current value \" +str(self.value)\n",
    "    \n",
    "    def simulate(self, steps = 20):\n",
    "        for i in range(steps):\n",
    "            self.time_step()\n",
    "            \n",
    "            \n",
    "class BoundedLinearProcess(Process):\n",
    "    \"\"\"A stochastic process that develops linearly. Increases\n",
    "    by velocity in every time period, but is bounded between 0 and 1.\"\"\"\n",
    "    \n",
    "    def __init__(self, start_value = 0, velocity = 0):\n",
    "        super().__init__(start_value)\n",
    "        self.velocity = velocity\n",
    "        \n",
    "    def time_step(self):\n",
    "        self.value += self.velocity\n",
    "        if self.value < 0:\n",
    "            self.value = -self.value\n",
    "            self.velocity = -self.velocity\n",
    "        if self.value > 1:\n",
    "            self.value = 1 - (self.value - 1)\n",
    "            self.velocity = -self.velocity\n",
    "        super().time_step()\n",
    "        \n",
    "    def __str__(self):\n",
    "        return \" \" * int(self.value*20) + \"*\"\n",
    "\n",
    "\n",
    "class ARProcess(Process):\n",
    "    \n",
    "    def __init__(self, alpha = 0.5, sigma = 1, start_value = 0):\n",
    "        super().__init__(start_value)\n",
    "        self.alpha = alpha\n",
    "        self.sigma = sigma\n",
    "        \n",
    "    def time_step(self):\n",
    "        self.value = self.alpha * self.value + np.random.normal(scale = self.sigma)\n",
    "        super().time_step()\n",
    "    \n",
    "    # Overriding str function in super class\n",
    "    def __str__(self):\n",
    "        if self.value < 0:\n",
    "            s = \" \" * int(5*(self.value + 3)) + \"*\" + \" \" * int(-self.value * 5) + \"|\"\n",
    "        elif self.value == 0:\n",
    "            s = \" \" * 15 + \"*\"\n",
    "        else:\n",
    "            s = \" \" * 15 + \"|\" + \" \" * int(5 * self.value) + \"*\"\n",
    "        return s\n",
    "    \n",
    "    \n",
    "class RandomWalk(ARProcess):\n",
    "    \n",
    "    def __init__(self, sigma = 1):\n",
    "        super().__init__(alpha = 1, sigma = sigma)"
   ]
  },
  {
   "cell_type": "code",
   "execution_count": 2,
   "metadata": {},
   "outputs": [],
   "source": [
    "class ProcessPlotter:\n",
    "    \"\"\"An object to display the history of a process.\"\"\"\n",
    "    \n",
    "    def __init__(self, process = None):\n",
    "        self.process = process\n",
    "        \n",
    "    def plot(self):\n",
    "        pass"
   ]
  },
  {
   "cell_type": "code",
   "execution_count": 3,
   "metadata": {},
   "outputs": [],
   "source": [
    "class TextProcessPlotter(ProcessPlotter):\n",
    "    def plot(self):\n",
    "        upper = max(self.process.history)\n",
    "        lower = min(self.process.history)\n",
    "        \n",
    "        if upper == lower:\n",
    "            upper += 1\n",
    "        for val in self.process.history:\n",
    "            print(\" \" * int(20 * (val - lower)/(upper-lower)) + \"*\")"
   ]
  },
  {
   "cell_type": "code",
   "execution_count": 4,
   "metadata": {},
   "outputs": [
    {
     "name": "stdout",
     "output_type": "stream",
     "text": [
      "*\n",
      "           *\n",
      "                  *\n",
      "                    *\n",
      "                   *\n",
      "                  *\n",
      "               *\n",
      "                *\n",
      "                  *\n",
      "                 *\n"
     ]
    }
   ],
   "source": [
    "p1 = ARProcess(alpha = .9)\n",
    "plotter1 = TextProcessPlotter(p1)\n",
    "p1.simulate(10)\n",
    "plotter1.plot()"
   ]
  },
  {
   "cell_type": "code",
   "execution_count": 5,
   "metadata": {},
   "outputs": [
    {
     "name": "stdout",
     "output_type": "stream",
     "text": [
      "       *\n",
      "       *\n",
      "                 *\n",
      "                    *\n",
      "               *\n",
      "    *\n",
      "  *\n",
      " *\n",
      "          *\n",
      "     *\n",
      "*\n",
      "*\n",
      "  *\n",
      "   *\n",
      "        *\n",
      "             *\n",
      "    *\n",
      "  *\n",
      "    *\n",
      "*\n"
     ]
    }
   ],
   "source": [
    "p2 = RandomWalk()\n",
    "plotter2 = TextProcessPlotter(p2)\n",
    "p2.simulate()\n",
    "plotter2.plot()"
   ]
  },
  {
   "cell_type": "code",
   "execution_count": 6,
   "metadata": {},
   "outputs": [],
   "source": [
    "import matplotlib\n",
    "%matplotlib inline\n",
    "\n",
    "class GraphicProcessPlotter(ProcessPlotter):\n",
    "    def plot(self):\n",
    "        matplotlib.pyplot.plot(self.process.history)\n",
    "        matplotlib.pyplot.title(\"Process Time Plot\")"
   ]
  },
  {
   "cell_type": "code",
   "execution_count": 7,
   "metadata": {},
   "outputs": [
    {
     "data": {
      "image/png": "[encoded data removed]",
      "text/plain": [
       "<Figure size 432x288 with 1 Axes>"
      ]
     },
     "metadata": {
      "needs_background": "light"
     },
     "output_type": "display_data"
    }
   ],
   "source": [
    "plotter3 = GraphicProcessPlotter(p1)\n",
    "plotter3.plot()"
   ]
  },
  {
   "cell_type": "code",
   "execution_count": 8,
   "metadata": {},
   "outputs": [
    {
     "data": {
      "image/png": "[encoded data removed]",
      "text/plain": [
       "<Figure size 432x288 with 1 Axes>"
      ]
     },
     "metadata": {
      "needs_background": "light"
     },
     "output_type": "display_data"
    }
   ],
   "source": [
    "plotter4 = GraphicProcessPlotter(p2)\n",
    "plotter4.plot()"
   ]
  },
  {
   "cell_type": "code",
   "execution_count": null,
   "metadata": {},
   "outputs": [],
   "source": []
  },
  {
   "cell_type": "code",
   "execution_count": null,
   "metadata": {
    "collapsed": true
   },
   "outputs": [],
   "source": []
  }
 ],
 "metadata": {
  "kernelspec": {
   "display_name": "Python 3 (ipykernel)",
   "language": "python",
   "name": "python3"
  },
  "language_info": {
   "codemirror_mode": {
    "name": "ipython",
    "version": 3
   },
   "file_extension": ".py",
   "mimetype": "text/x-python",
   "name": "python",
   "nbconvert_exporter": "python",
   "pygments_lexer": "ipython3",
   "version": "3.9.7"
  }
 },
 "nbformat": 4,
 "nbformat_minor": 2
}
