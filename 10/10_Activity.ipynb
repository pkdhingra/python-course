{
 "cells": [
  {
   "cell_type": "markdown",
   "metadata": {},
   "source": [
    "# Week 11 Live Session - Breakout Activities\n",
    "\n",
    "First, import numpy and matplotlib by executing the cell below.\n"
   ]
  },
  {
   "cell_type": "code",
   "execution_count": 2,
   "metadata": {},
   "outputs": [
    {
     "name": "stdout",
     "output_type": "stream",
     "text": [
      "1.13.3\n"
     ]
    }
   ],
   "source": [
    "import numpy as np\n",
    "import matplotlib.pyplot as plt\n",
    "%matplotlib inline\n",
    "import csv\n",
    "\n",
    "print (np.__version__)"
   ]
  },
  {
   "cell_type": "markdown",
   "metadata": {},
   "source": [
    "The file scores.csv contains actual grades from a recent semester of w200 (names have been stripped and rows permuted to prevent de-anonymization).\n",
    "\n",
    "Examine the contents of the file.  Then read in the data and store it in two numpy arrays:  one called midterm and one called final."
   ]
  },
  {
   "cell_type": "code",
   "execution_count": 11,
   "metadata": {},
   "outputs": [
    {
     "name": "stdout",
     "output_type": "stream",
     "text": [
      "[  97.   74.   92.   93.  100.   95.   98.   97.   92.   93.   90.   95.\n",
      "   99.   88.   94.   94.   98.   92.   92.   97.   98.   95.   95.   90.\n",
      "   98.   99.   78.   97.   97.   92.   59.  100.   95.   91.   95.   95.\n",
      "   69.   97.   95.   96.   99.   98.   97.   90.   95.   97.   92.   92.\n",
      "   73.   91.   95.   91.   95.   97.   92.   92.   92.]\n",
      "[  97.   92.   94.   93.   92.   99.   99.   99.   99.   83.   94.   99.\n",
      "   95.   93.   94.   97.  100.   97.   94.   95.   93.   98.   92.   92.\n",
      "   99.   97.   87.   97.   95.   92.   91.   99.   94.   95.   74.   98.\n",
      "   99.   85.   96.   98.   98.   98.  100.   95.   96.   83.   83.   95.\n",
      "   84.   88.   97.   95.   85.   88.   83.   93.   90.]\n"
     ]
    }
   ],
   "source": [
    "score = np.loadtxt(open(\"scores.csv\", \"rb\"), delimiter = \",\", skiprows = 1)\n",
    "midterm = score[:,0]\n",
    "final = score[:,1]\n",
    "print(midterm)\n",
    "print(final)"
   ]
  },
  {
   "cell_type": "code",
   "execution_count": 12,
   "metadata": {},
   "outputs": [
    {
     "data": {
      "text/plain": [
       "93.456140350877192"
      ]
     },
     "execution_count": 12,
     "metadata": {},
     "output_type": "execute_result"
    }
   ],
   "source": [
    "midterm.mean()\n",
    "final.mean()"
   ]
  },
  {
   "cell_type": "markdown",
   "metadata": {},
   "source": [
    "Compute the mean score for the midterms and the mean score for the finals."
   ]
  },
  {
   "cell_type": "code",
   "execution_count": null,
   "metadata": {
    "collapsed": true
   },
   "outputs": [],
   "source": []
  },
  {
   "cell_type": "markdown",
   "metadata": {},
   "source": [
    "Compute how many students there are."
   ]
  },
  {
   "cell_type": "code",
   "execution_count": 28,
   "metadata": {},
   "outputs": [
    {
     "data": {
      "text/plain": [
       "(57,)"
      ]
     },
     "execution_count": 28,
     "metadata": {},
     "output_type": "execute_result"
    }
   ],
   "source": [
    "midterm.shape"
   ]
  },
  {
   "cell_type": "markdown",
   "metadata": {},
   "source": [
    "Create a boolean array called improving, which is True for students that score higher on the final than the midterm, and False for other students."
   ]
  },
  {
   "cell_type": "code",
   "execution_count": 31,
   "metadata": {},
   "outputs": [
    {
     "data": {
      "text/plain": [
       "[array([False,  True,  True, False, False,  True,  True,  True,  True,\n",
       "        False,  True,  True, False,  True, False,  True,  True,  True,\n",
       "         True, False, False,  True, False,  True,  True, False,  True,\n",
       "        False, False, False,  True, False, False,  True, False,  True,\n",
       "         True, False,  True,  True, False, False,  True,  True,  True,\n",
       "        False, False,  True,  True, False,  True,  True, False, False,\n",
       "        False,  True, False], dtype=bool)]"
      ]
     },
     "execution_count": 31,
     "metadata": {},
     "output_type": "execute_result"
    }
   ],
   "source": [
    "improving = [final > midterm]\n",
    "improving"
   ]
  },
  {
   "cell_type": "markdown",
   "metadata": {},
   "source": [
    "Next, look at **only** the students that did better on the final than the midterm, and find their mean final score."
   ]
  },
  {
   "cell_type": "code",
   "execution_count": 30,
   "metadata": {},
   "outputs": [
    {
     "data": {
      "text/plain": [
       "95.612903225806448"
      ]
     },
     "execution_count": 30,
     "metadata": {},
     "output_type": "execute_result"
    }
   ],
   "source": [
    "final[improving].mean()"
   ]
  },
  {
   "cell_type": "markdown",
   "metadata": {},
   "source": [
    "Do the same for the remaining students - those that did worse on the final, or the same on the midterm and the final."
   ]
  },
  {
   "cell_type": "code",
   "execution_count": 32,
   "metadata": {},
   "outputs": [
    {
     "ename": "TypeError",
     "evalue": "bad operand type for unary ~: 'list'",
     "output_type": "error",
     "traceback": [
      "\u001b[0;31m---------------------------------------------------------------------------\u001b[0m",
      "\u001b[0;31mTypeError\u001b[0m                                 Traceback (most recent call last)",
      "\u001b[0;32m<ipython-input-32-2644206ed438>\u001b[0m in \u001b[0;36m<module>\u001b[0;34m()\u001b[0m\n\u001b[0;32m----> 1\u001b[0;31m \u001b[0mfinal\u001b[0m\u001b[0;34m[\u001b[0m\u001b[0;34m~\u001b[0m\u001b[0mimproving\u001b[0m\u001b[0;34m]\u001b[0m\u001b[0;34m.\u001b[0m\u001b[0mmean\u001b[0m\u001b[0;34m(\u001b[0m\u001b[0;34m)\u001b[0m\u001b[0;34m\u001b[0m\u001b[0m\n\u001b[0m",
      "\u001b[0;31mTypeError\u001b[0m: bad operand type for unary ~: 'list'"
     ]
    }
   ],
   "source": [
    "final[~improving].mean()"
   ]
  },
  {
   "cell_type": "markdown",
   "metadata": {},
   "source": [
    "Compute how many students dropped 10 points or more from their midterm score to their final score"
   ]
  },
  {
   "cell_type": "code",
   "execution_count": 34,
   "metadata": {},
   "outputs": [
    {
     "data": {
      "text/plain": [
       "array([ 83.,  74.,  85.,  83.,  85.])"
      ]
     },
     "execution_count": 34,
     "metadata": {},
     "output_type": "execute_result"
    }
   ],
   "source": [
    "final[final-midterm <= -10]"
   ]
  },
  {
   "cell_type": "markdown",
   "metadata": {},
   "source": [
    "We become concerned that the average for the final is too low.  To correct this, we decide to randomly award some bonus points.  Specifically, for each student in the class, with probability 30%, we want to add a single bonus point to the final score.\n",
    "\n",
    "First, please set the random seed by executing the instruction below.  This will ensure that different groups get the same result.\n",
    "\n",
    "Second, generate an array of random numbers, each a uniform draw between zero and one.  (Check out np.random.rand)\n",
    "\n",
    "You have to figure out what the next steps are!  Store your result in a new ndarray called curved_final (don't overwrite the original final scores)."
   ]
  },
  {
   "cell_type": "code",
   "execution_count": 35,
   "metadata": {},
   "outputs": [],
   "source": [
    "np.random.seed(100)\n",
    "\n",
    "bonus = np.random.randint(0,2,57)\n",
    "curved_final = final + bonus"
   ]
  },
  {
   "cell_type": "markdown",
   "metadata": {},
   "source": [
    "Run the instruction below to generate a scatterplot of midterm scores versus final scores"
   ]
  },
  {
   "cell_type": "code",
   "execution_count": 36,
   "metadata": {},
   "outputs": [
    {
     "data": {
      "text/plain": [
       "<matplotlib.collections.PathCollection at 0x10e5ca3c8>"
      ]
     },
     "execution_count": 36,
     "metadata": {},
     "output_type": "execute_result"
    },
    {
     "data": {
      "image/png": "[encoded data removed]",
      "text/plain": [
       "<matplotlib.figure.Figure at 0x106027c18>"
      ]
     },
     "metadata": {},
     "output_type": "display_data"
    }
   ],
   "source": [
    "plt.scatter(midterm, final)"
   ]
  },
  {
   "cell_type": "markdown",
   "metadata": {},
   "source": [
    "Now place the score data into a two-dimensional array with two columns.\n",
    "\n",
    "You want each row to represent a different student.  You want the 0th column to represent the midterm score and the 1st column to represent the final score.  Call your new array all_grades and check its shape to see if it's correct."
   ]
  },
  {
   "cell_type": "code",
   "execution_count": null,
   "metadata": {
    "collapsed": true
   },
   "outputs": [],
   "source": []
  },
  {
   "cell_type": "markdown",
   "metadata": {},
   "source": [
    "Use array indexing on all_grades (square brackets) to pull out the array of scores for the student at index 10."
   ]
  },
  {
   "cell_type": "code",
   "execution_count": null,
   "metadata": {
    "collapsed": true
   },
   "outputs": [],
   "source": []
  },
  {
   "cell_type": "markdown",
   "metadata": {},
   "source": [
    "## Linear Modeling in Numpy"
   ]
  },
  {
   "cell_type": "markdown",
   "metadata": {},
   "source": [
    "You develop a linear model that predicts how a student will do in the class based on their midterm grade and final grade.  Your model is as follows:\n",
    "\n",
    "$$overall = w_1 midterm + w_2 final$$\n",
    "\n",
    "You write this as the product of matrices:\n",
    "\n",
    "$$overall = \\begin{bmatrix}\n",
    "    midterm & final\n",
    "\\end{bmatrix}\n",
    "\\begin{bmatrix}\n",
    "    w_1 \\\\ w_2\n",
    "\\end{bmatrix}\n",
    "$$\n",
    "\n",
    "If you remember your matrix algebra, these two equations mean exactly the same thing.\n",
    "\n",
    "You estimate $w_1=.4$ and $w_2 = .55$.\n",
    "\n",
    "Create a numpy array called w to hold the matrix above.  You will need to use reshape() to get it into the right dimensions.  Check w.shape to make sure it is (2,1). "
   ]
  },
  {
   "cell_type": "code",
   "execution_count": null,
   "metadata": {
    "collapsed": true
   },
   "outputs": [],
   "source": []
  },
  {
   "cell_type": "markdown",
   "metadata": {},
   "source": [
    "Take the scores for student at the 10, and use reshape to make sure the shape is (1,2).  (These reshapes are important when doing matrix algebra, because numpy likes to drop dimensions when you're not looking, and that can lead to mistakes)\n",
    "\n",
    "Compute the matrix product of these scores with w (use np.dot).  This will give you the model prediction for the overall grade for this student."
   ]
  },
  {
   "cell_type": "code",
   "execution_count": null,
   "metadata": {
    "collapsed": true
   },
   "outputs": [],
   "source": []
  },
  {
   "cell_type": "markdown",
   "metadata": {},
   "source": [
    "Next, find the matrix product of the entire matrix all_grades with w.   if you think about how matrix multiplication works, this will give you an array of predicted overall grades for each student.  Store the result in a variable called predicted."
   ]
  },
  {
   "cell_type": "code",
   "execution_count": null,
   "metadata": {
    "collapsed": true
   },
   "outputs": [],
   "source": []
  },
  {
   "cell_type": "markdown",
   "metadata": {},
   "source": [
    "Find the maximum overall grade predicted by your model."
   ]
  },
  {
   "cell_type": "code",
   "execution_count": null,
   "metadata": {
    "collapsed": true
   },
   "outputs": [],
   "source": []
  }
 ],
 "metadata": {
  "kernelspec": {
   "display_name": "Python 3",
   "language": "python",
   "name": "python3"
  },
  "language_info": {
   "codemirror_mode": {
    "name": "ipython",
    "version": 3
   },
   "file_extension": ".py",
   "mimetype": "text/x-python",
   "name": "python",
   "nbconvert_exporter": "python",
   "pygments_lexer": "ipython3",
   "version": "3.6.3"
  }
 },
 "nbformat": 4,
 "nbformat_minor": 2
}
