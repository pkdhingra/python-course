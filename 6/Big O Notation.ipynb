{
 "cells": [
  {
   "cell_type": "code",
   "execution_count": 1,
   "metadata": {},
   "outputs": [],
   "source": [
    "def thing(N):\n",
    "    i = N\n",
    "    j = 1\n",
    "    count = 0\n",
    "    while j<i:\n",
    "        i *= 100\n",
    "        j *= 101\n",
    "        count += 1\n",
    "    return count"
   ]
  },
  {
   "cell_type": "code",
   "execution_count": 2,
   "metadata": {},
   "outputs": [
    {
     "data": {
      "text/plain": [
       "[232, 463, 574, 625, 695]"
      ]
     },
     "execution_count": 2,
     "metadata": {},
     "output_type": "execute_result"
    }
   ],
   "source": [
    "trials = [10, 100, 300, 500, 1000]\n",
    "results = [thing(x) for x in trials]\n",
    "trials\n",
    "results"
   ]
  },
  {
   "cell_type": "code",
   "execution_count": 3,
   "metadata": {},
   "outputs": [
    {
     "data": {
      "image/png": "[encoded data removed]",
      "text/plain": [
       "<Figure size 432x288 with 1 Axes>"
      ]
     },
     "metadata": {
      "needs_background": "light"
     },
     "output_type": "display_data"
    }
   ],
   "source": [
    "import matplotlib.pyplot as plt\n",
    "\n",
    "plt.plot(trials, results)\n",
    "plt.show()"
   ]
  },
  {
   "cell_type": "code",
   "execution_count": 4,
   "metadata": {},
   "outputs": [],
   "source": [
    "def thing2(N):\n",
    "    count = 0\n",
    "    i = 0\n",
    "    j = 1\n",
    "    while i<N:\n",
    "        for k in range(j):\n",
    "            i += 1\n",
    "            count += 1\n",
    "        j *= 2\n",
    "    return count"
   ]
  },
  {
   "cell_type": "code",
   "execution_count": 5,
   "metadata": {},
   "outputs": [
    {
     "data": {
      "text/plain": [
       "[15, 127, 511, 511, 1023, 8191, 16383]"
      ]
     },
     "execution_count": 5,
     "metadata": {},
     "output_type": "execute_result"
    }
   ],
   "source": [
    "trials = [10, 100, 300, 500, 1000, 5000, 10000]\n",
    "results = [thing2(x) for x in trials]\n",
    "results"
   ]
  },
  {
   "cell_type": "code",
   "execution_count": 6,
   "metadata": {},
   "outputs": [
    {
     "data": {
      "image/png": "[encoded data removed]",
      "text/plain": [
       "<Figure size 432x288 with 1 Axes>"
      ]
     },
     "metadata": {
      "needs_background": "light"
     },
     "output_type": "display_data"
    }
   ],
   "source": [
    "plt.plot(trials, results)\n",
    "plt.show()"
   ]
  },
  {
   "cell_type": "code",
   "execution_count": 7,
   "metadata": {},
   "outputs": [],
   "source": [
    "def func(i):\n",
    "    if i<1:\n",
    "        return 1\n",
    "    else:\n",
    "        return func(i-1) + func(i-1) "
   ]
  },
  {
   "cell_type": "code",
   "execution_count": null,
   "metadata": {},
   "outputs": [],
   "source": [
    "trials = [10, 100, 300, 500, 1000]\n",
    "results = [func(x) for x in trials]\n",
    "results"
   ]
  },
  {
   "cell_type": "code",
   "execution_count": null,
   "metadata": {},
   "outputs": [],
   "source": [
    "mb_list = [3,6,7,4,1,0,8,2,5]\n",
    "\n",
    "def thing(mb_list):\n",
    "    count = 0\n",
    "    n = len(mb_list)\n",
    "    while mb_list != [0,1,2,3,4,5,6,7,8]:\n",
    "        if mb_list[0] > mb_list[1]:\n",
    "            if mb_list[1] == 0:\n",
    "                mb_list[:n-1], mb_list[n-1] = mb_list[1:n], mb_list[0]\n",
    "            else:\n",
    "                mb_list[0], mb_list[1] = mb_list[1], mb_list[0]\n",
    "        else:\n",
    "            mb_list[:n-1], mb_list[n-1] = mb_list[1:n], mb_list[0]\n",
    "        count += 1"
   ]
  },
  {
   "cell_type": "code",
   "execution_count": null,
   "metadata": {},
   "outputs": [],
   "source": [
    "trials = [[3,6,5,1,2,0,4],[0,2,3,1],[\n",
    "results = [thing2(x) for x in trials]\n",
    "results"
   ]
  },
  {
   "cell_type": "code",
   "execution_count": null,
   "metadata": {},
   "outputs": [],
   "source": []
  },
  {
   "cell_type": "code",
   "execution_count": null,
   "metadata": {},
   "outputs": [],
   "source": []
  }
 ],
 "metadata": {
  "kernelspec": {
   "display_name": "Python 3 (ipykernel)",
   "language": "python",
   "name": "python3"
  },
  "language_info": {
   "codemirror_mode": {
    "name": "ipython",
    "version": 3
   },
   "file_extension": ".py",
   "mimetype": "text/x-python",
   "name": "python",
   "nbconvert_exporter": "python",
   "pygments_lexer": "ipython3",
   "version": "3.9.7"
  }
 },
 "nbformat": 4,
 "nbformat_minor": 2
}
