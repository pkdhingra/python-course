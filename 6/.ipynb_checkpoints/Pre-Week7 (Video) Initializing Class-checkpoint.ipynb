{
 "cells": [
  {
   "cell_type": "markdown",
   "metadata": {},
   "source": [
    "## Initializing a Class"
   ]
  },
  {
   "cell_type": "code",
   "execution_count": 1,
   "metadata": {},
   "outputs": [
    {
     "name": "stdout",
     "output_type": "stream",
     "text": [
      "The drone is flying at 100 feet.\n",
      "The drone is flying at 200 feet.\n",
      "The drone is flying at 0 feet.\n"
     ]
    }
   ],
   "source": [
    "class Drone:\n",
    "    \n",
    "    #Initializer/Constructor\n",
    "    def __init__(self, altitude = 0):\n",
    "        self.altitude = altitude\n",
    "    \n",
    "    def fly(self):\n",
    "        print(\"The drone is flying at\", self.altitude, \"feet.\")\n",
    "    \n",
    "    def ascend(self, change):\n",
    "        self.altitude += change\n",
    "    \n",
    "d1 = Drone(100)\n",
    "d1.fly()\n",
    "d1.ascend(100)\n",
    "d1.fly()\n",
    "d2 = Drone()\n",
    "d2.fly()"
   ]
  },
  {
   "cell_type": "markdown",
   "metadata": {},
   "source": [
    "## Counting with Data Attributes"
   ]
  },
  {
   "cell_type": "code",
   "execution_count": 2,
   "metadata": {},
   "outputs": [
    {
     "name": "stdout",
     "output_type": "stream",
     "text": [
      "d1 ascend count 0\n",
      "The drone is flying at 100 feet.\n",
      "d1 ascend count 2\n",
      "The drone is flying at 300 feet.\n",
      "The drone is flying at 0 feet.\n",
      "d2 ascend count 0\n"
     ]
    }
   ],
   "source": [
    "class Drone:\n",
    "    \n",
    "    def __init__(self, altitude = 0):\n",
    "        self.altitude = altitude\n",
    "        self.ascend_count = 0\n",
    "    \n",
    "    def fly(self):\n",
    "        print(\"The drone is flying at\", self.altitude, \"feet.\")\n",
    "    \n",
    "    def ascend(self, change):\n",
    "        self.altitude += change\n",
    "        self.ascend_count += 1\n",
    "    \n",
    "d1 = Drone(100)\n",
    "print(\"d1 ascend count\", d1.ascend_count)\n",
    "d1.fly()\n",
    "d1.ascend(100)\n",
    "d1.ascend(100)\n",
    "print(\"d1 ascend count\", d1.ascend_count)\n",
    "d1.fly()\n",
    "d2 = Drone()\n",
    "d2.fly()\n",
    "print(\"d2 ascend count\", d2.ascend_count)"
   ]
  },
  {
   "cell_type": "markdown",
   "metadata": {},
   "source": [
    "# Controlling access to attributes\n",
    "## Direct Access"
   ]
  },
  {
   "cell_type": "code",
   "execution_count": 3,
   "metadata": {},
   "outputs": [
    {
     "name": "stdout",
     "output_type": "stream",
     "text": [
      "The Drone's altitude is 100\n",
      "The Drone's altitude is 300\n"
     ]
    }
   ],
   "source": [
    "class Drone:\n",
    "    \n",
    "    num_drones = 0\n",
    "    \n",
    "    def __init__(self, altitude = 0):\n",
    "        self.altitude = altitude\n",
    "        self.ascend_count = 0\n",
    "        Drone.num_drones += 1\n",
    "    \n",
    "    def fly(self):\n",
    "        print(\"The drone is flying at\", self.altitude, \"feet.\")\n",
    "    \n",
    "    def ascend(self, change):\n",
    "        self.altitude += change\n",
    "        self.ascend_count += 1\n",
    "    \n",
    "d1 = Drone(100)\n",
    "print(\"The Drone's altitude is\", d1.altitude)\n",
    "d1.altitude = 300\n",
    "print(\"The Drone's altitude is\", d1.altitude)"
   ]
  },
  {
   "cell_type": "markdown",
   "metadata": {},
   "source": [
    "## Getter Setter Methods"
   ]
  },
  {
   "cell_type": "code",
   "execution_count": 4,
   "metadata": {},
   "outputs": [
    {
     "name": "stdout",
     "output_type": "stream",
     "text": [
      "The Drone's altitude is 100\n",
      "The Drone's altitude is 300\n"
     ]
    }
   ],
   "source": [
    "class Drone:\n",
    "    \n",
    "    num_drones = 0\n",
    "    \n",
    "    def __init__(self, altitude = 0):\n",
    "        self.altitude = altitude\n",
    "        self.ascend_count = 0\n",
    "        Drone.num_drones += 1\n",
    "    \n",
    "    def fly(self):\n",
    "        print(\"The drone is flying at\", self.altitude, \"feet.\")\n",
    "    \n",
    "    def ascend(self, change):\n",
    "        self.altitude += change\n",
    "        self.ascend_count += 1\n",
    "        \n",
    "    def get_altitude(self):\n",
    "        return self.altitude\n",
    "    \n",
    "    def set_altitude(self, new_altitude):\n",
    "        self.altitude = new_altitude\n",
    "    \n",
    "d1 = Drone(100)\n",
    "print(\"The Drone's altitude is\", d1.get_altitude())\n",
    "d1.set_altitude(300)\n",
    "print(\"The Drone's altitude is\", d1.get_altitude())"
   ]
  },
  {
   "cell_type": "code",
   "execution_count": 5,
   "metadata": {},
   "outputs": [
    {
     "name": "stdout",
     "output_type": "stream",
     "text": [
      "The Drone's altitude is 100\n"
     ]
    },
    {
     "ename": "Exception",
     "evalue": "Drone cannot have a negative altitude",
     "output_type": "error",
     "traceback": [
      "\u001b[0;31m---------------------------------------------------------------------------\u001b[0m",
      "\u001b[0;31mException\u001b[0m                                 Traceback (most recent call last)",
      "\u001b[0;32m<ipython-input-5-77824203b771>\u001b[0m in \u001b[0;36m<module>\u001b[0;34m()\u001b[0m\n\u001b[1;32m     26\u001b[0m \u001b[0md1\u001b[0m \u001b[0;34m=\u001b[0m \u001b[0mDrone\u001b[0m\u001b[0;34m(\u001b[0m\u001b[0;36m100\u001b[0m\u001b[0;34m)\u001b[0m\u001b[0;34m\u001b[0m\u001b[0m\n\u001b[1;32m     27\u001b[0m \u001b[0mprint\u001b[0m\u001b[0;34m(\u001b[0m\u001b[0;34m\"The Drone's altitude is\"\u001b[0m\u001b[0;34m,\u001b[0m \u001b[0md1\u001b[0m\u001b[0;34m.\u001b[0m\u001b[0mget_altitude\u001b[0m\u001b[0;34m(\u001b[0m\u001b[0;34m)\u001b[0m\u001b[0;34m)\u001b[0m\u001b[0;34m\u001b[0m\u001b[0m\n\u001b[0;32m---> 28\u001b[0;31m \u001b[0md1\u001b[0m\u001b[0;34m.\u001b[0m\u001b[0mset_altitude\u001b[0m\u001b[0;34m(\u001b[0m\u001b[0;34m-\u001b[0m\u001b[0;36m10\u001b[0m\u001b[0;34m)\u001b[0m\u001b[0;34m\u001b[0m\u001b[0m\n\u001b[0m\u001b[1;32m     29\u001b[0m \u001b[0mprint\u001b[0m\u001b[0;34m(\u001b[0m\u001b[0;34m\"The Drone's altitude is\"\u001b[0m\u001b[0;34m,\u001b[0m \u001b[0md1\u001b[0m\u001b[0;34m.\u001b[0m\u001b[0mget_altitude\u001b[0m\u001b[0;34m(\u001b[0m\u001b[0;34m)\u001b[0m\u001b[0;34m)\u001b[0m\u001b[0;34m\u001b[0m\u001b[0m\n",
      "\u001b[0;32m<ipython-input-5-77824203b771>\u001b[0m in \u001b[0;36mset_altitude\u001b[0;34m(self, new_altitude)\u001b[0m\n\u001b[1;32m     21\u001b[0m     \u001b[0;32mdef\u001b[0m \u001b[0mset_altitude\u001b[0m\u001b[0;34m(\u001b[0m\u001b[0mself\u001b[0m\u001b[0;34m,\u001b[0m \u001b[0mnew_altitude\u001b[0m\u001b[0;34m)\u001b[0m\u001b[0;34m:\u001b[0m\u001b[0;34m\u001b[0m\u001b[0m\n\u001b[1;32m     22\u001b[0m         \u001b[0;32mif\u001b[0m \u001b[0mnew_altitude\u001b[0m \u001b[0;34m<\u001b[0m \u001b[0;36m0\u001b[0m\u001b[0;34m:\u001b[0m\u001b[0;34m\u001b[0m\u001b[0m\n\u001b[0;32m---> 23\u001b[0;31m             \u001b[0;32mraise\u001b[0m \u001b[0mException\u001b[0m\u001b[0;34m(\u001b[0m\u001b[0;34m\"Drone cannot have a negative altitude\"\u001b[0m\u001b[0;34m)\u001b[0m\u001b[0;34m\u001b[0m\u001b[0m\n\u001b[0m\u001b[1;32m     24\u001b[0m         \u001b[0mself\u001b[0m\u001b[0;34m.\u001b[0m\u001b[0maltitude\u001b[0m \u001b[0;34m=\u001b[0m \u001b[0mnew_altitude\u001b[0m\u001b[0;34m\u001b[0m\u001b[0m\n\u001b[1;32m     25\u001b[0m \u001b[0;34m\u001b[0m\u001b[0m\n",
      "\u001b[0;31mException\u001b[0m: Drone cannot have a negative altitude"
     ]
    }
   ],
   "source": [
    "#When it's useful\n",
    "class Drone:\n",
    "    \n",
    "    num_drones = 0\n",
    "    \n",
    "    def __init__(self, altitude = 0):\n",
    "        self.altitude = altitude\n",
    "        self.ascend_count = 0\n",
    "        Drone.num_drones += 1\n",
    "    \n",
    "    def fly(self):\n",
    "        print(\"The drone is flying at\", self.altitude, \"feet.\")\n",
    "    \n",
    "    def ascend(self, change):\n",
    "        self.altitude += change\n",
    "        self.ascend_count += 1\n",
    "        \n",
    "    def get_altitude(self):\n",
    "        return self.altitude\n",
    "    \n",
    "    def set_altitude(self, new_altitude):\n",
    "        if new_altitude < 0:\n",
    "            raise Exception(\"Drone cannot have a negative altitude\")\n",
    "        self.altitude = new_altitude\n",
    "    \n",
    "d1 = Drone(100)\n",
    "print(\"The Drone's altitude is\", d1.get_altitude())\n",
    "d1.set_altitude(-10)\n",
    "print(\"The Drone's altitude is\", d1.get_altitude())"
   ]
  },
  {
   "cell_type": "markdown",
   "metadata": {
    "collapsed": true
   },
   "source": [
    "## Hidden Attributes\n",
    "\n",
    "So that we cannot access attributes from outside.\n",
    "Add 2 underscores before attributes"
   ]
  },
  {
   "cell_type": "code",
   "execution_count": 18,
   "metadata": {},
   "outputs": [
    {
     "name": "stdout",
     "output_type": "stream",
     "text": [
      "The Drone's altitude is 100\n"
     ]
    },
    {
     "ename": "AttributeError",
     "evalue": "'Drone' object has no attribute '__altitude'",
     "output_type": "error",
     "traceback": [
      "\u001b[0;31m---------------------------------------------------------------------------\u001b[0m",
      "\u001b[0;31mAttributeError\u001b[0m                            Traceback (most recent call last)",
      "\u001b[0;32m<ipython-input-18-d082582ba95c>\u001b[0m in \u001b[0;36m<module>\u001b[0;34m()\u001b[0m\n\u001b[1;32m     28\u001b[0m \u001b[0mprint\u001b[0m\u001b[0;34m(\u001b[0m\u001b[0;34m\"The Drone's altitude is\"\u001b[0m\u001b[0;34m,\u001b[0m \u001b[0md1\u001b[0m\u001b[0;34m.\u001b[0m\u001b[0mget_altitude\u001b[0m\u001b[0;34m(\u001b[0m\u001b[0;34m)\u001b[0m\u001b[0;34m)\u001b[0m\u001b[0;34m\u001b[0m\u001b[0m\n\u001b[1;32m     29\u001b[0m \u001b[0md1\u001b[0m\u001b[0;34m.\u001b[0m\u001b[0mset_altitude\u001b[0m\u001b[0;34m(\u001b[0m\u001b[0;36m300\u001b[0m\u001b[0;34m)\u001b[0m\u001b[0;34m\u001b[0m\u001b[0m\n\u001b[0;32m---> 30\u001b[0;31m \u001b[0mprint\u001b[0m\u001b[0;34m(\u001b[0m\u001b[0;34m\"The Drone's altitude is\"\u001b[0m\u001b[0;34m,\u001b[0m \u001b[0md1\u001b[0m\u001b[0;34m.\u001b[0m\u001b[0m__altitude\u001b[0m\u001b[0;34m)\u001b[0m\u001b[0;34m\u001b[0m\u001b[0m\n\u001b[0m\u001b[1;32m     31\u001b[0m \u001b[0mprint\u001b[0m\u001b[0;34m(\u001b[0m\u001b[0;34m\"The Drone's altitude is\"\u001b[0m\u001b[0;34m,\u001b[0m \u001b[0md1\u001b[0m\u001b[0;34m.\u001b[0m\u001b[0mget_altitude\u001b[0m\u001b[0;34m(\u001b[0m\u001b[0;34m)\u001b[0m\u001b[0;34m)\u001b[0m\u001b[0;34m\u001b[0m\u001b[0m\n",
      "\u001b[0;31mAttributeError\u001b[0m: 'Drone' object has no attribute '__altitude'"
     ]
    }
   ],
   "source": [
    "#When it's useful\n",
    "class Drone:\n",
    "    \n",
    "    num_drones = 0\n",
    "    \n",
    "    #Two underscores at the beginning\n",
    "    def __init__(self, altitude = 0):\n",
    "        self.__altitude = altitude\n",
    "        self.ascend_count = 0\n",
    "        Drone.num_drones += 1\n",
    "    \n",
    "    def fly(self):\n",
    "        print(\"The drone is flying at\", self.__altitude, \"feet.\")\n",
    "    \n",
    "    def ascend(self, change):\n",
    "        self.__altitude += change\n",
    "        self.ascend_count += 1\n",
    "        \n",
    "    def get_altitude(self):\n",
    "        return self.__altitude\n",
    "    \n",
    "    def set_altitude(self, new_altitude):\n",
    "        if new_altitude < 0:\n",
    "            raise Exception(\"Drone cannot have a negative altitude\")\n",
    "        self.__altitude = new_altitude\n",
    "    \n",
    "d1 = Drone(100)\n",
    "print(\"The Drone's altitude is\", d1.get_altitude())\n",
    "d1.set_altitude(300)\n",
    "print(\"The Drone's altitude is\", d1.__altitude)\n",
    "print(\"The Drone's altitude is\", d1.get_altitude())"
   ]
  },
  {
   "cell_type": "markdown",
   "metadata": {},
   "source": [
    "## Overriding Hidden Attributes"
   ]
  },
  {
   "cell_type": "code",
   "execution_count": 12,
   "metadata": {},
   "outputs": [
    {
     "name": "stdout",
     "output_type": "stream",
     "text": [
      "The Drone's altitude is 100\n",
      "The Drone's altitude is 100\n",
      "The Drone's altitude is 100\n"
     ]
    }
   ],
   "source": [
    "#When it's useful\n",
    "class Drone:\n",
    "    \n",
    "    num_drones = 0\n",
    "    \n",
    "    #Two underscores at the beginning\n",
    "    def __init__(self, altitude = 0):\n",
    "        self.__altitude = altitude\n",
    "        self.ascend_count = 0\n",
    "        Drone.num_drones += 1\n",
    "    \n",
    "    def fly(self):\n",
    "        print(\"The drone is flying at\", self.__altitude, \"feet.\")\n",
    "    \n",
    "    def ascend(self, change):\n",
    "        self.__altitude += change\n",
    "        self.ascend_count += 1\n",
    "        \n",
    "    def get_altitude(self):\n",
    "        return self.__altitude\n",
    "    \n",
    "    def set_altitude(self, new_altitude):\n",
    "        if new_altitude < 0:\n",
    "            raise Exception(\"Drone cannot have a negative altitude\")\n",
    "        self.__altitude = new_altitude\n",
    "    \n",
    "d1 = Drone(100)\n",
    "print(\"The Drone's altitude is\", d1.get_altitude())\n",
    "d1._Drone_altitude = 300\n",
    "\n",
    "##_Class__Attribute: Name Mangling\n",
    "print(\"The Drone's altitude is\", d1._Drone__altitude)\n",
    "print(\"The Drone's altitude is\", d1.get_altitude())"
   ]
  }
 ],
 "metadata": {
  "kernelspec": {
   "display_name": "Python 3",
   "language": "python",
   "name": "python3"
  },
  "language_info": {
   "codemirror_mode": {
    "name": "ipython",
    "version": 3
   },
   "file_extension": ".py",
   "mimetype": "text/x-python",
   "name": "python",
   "nbconvert_exporter": "python",
   "pygments_lexer": "ipython3",
   "version": "3.6.3"
  }
 },
 "nbformat": 4,
 "nbformat_minor": 2
}
