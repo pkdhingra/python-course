{
 "cells": [
  {
   "cell_type": "markdown",
   "metadata": {},
   "source": [
    "# Classes"
   ]
  },
  {
   "cell_type": "code",
   "execution_count": 1,
   "metadata": {
    "collapsed": true
   },
   "outputs": [],
   "source": [
    "class Drone:\n",
    "    \"\"\"A representation of a drone aircraft\"\"\""
   ]
  },
  {
   "cell_type": "code",
   "execution_count": 2,
   "metadata": {
    "collapsed": true
   },
   "outputs": [],
   "source": [
    "?Drone"
   ]
  },
  {
   "cell_type": "code",
   "execution_count": 3,
   "metadata": {},
   "outputs": [
    {
     "name": "stdout",
     "output_type": "stream",
     "text": [
      "d1 has type <class '__main__.Drone'> d2 has type <class '__main__.Drone'>\n"
     ]
    }
   ],
   "source": [
    "d1 = Drone()\n",
    "d2 = Drone()\n",
    "print(\"d1 has type\", type(d1), \"d2 has type\", type(d2))"
   ]
  },
  {
   "cell_type": "markdown",
   "metadata": {},
   "source": [
    "## Data Attributes\n",
    "\n",
    "Class Attributes vs. Instance attributes"
   ]
  },
  {
   "cell_type": "code",
   "execution_count": 4,
   "metadata": {
    "collapsed": true
   },
   "outputs": [],
   "source": [
    "Drone.power_system = \"Battery\"\n",
    "# Created class attributes, which apply to all instances"
   ]
  },
  {
   "cell_type": "code",
   "execution_count": 5,
   "metadata": {},
   "outputs": [
    {
     "name": "stdout",
     "output_type": "stream",
     "text": [
      "Battery\n",
      "Battery\n",
      "Battery\n"
     ]
    }
   ],
   "source": [
    "print(d1.power_system)\n",
    "print(d2.power_system)\n",
    "print(Drone.power_system)"
   ]
  },
  {
   "cell_type": "code",
   "execution_count": 6,
   "metadata": {
    "collapsed": true
   },
   "outputs": [],
   "source": [
    "d1.power_system = \"Gasoline\""
   ]
  },
  {
   "cell_type": "code",
   "execution_count": 7,
   "metadata": {},
   "outputs": [
    {
     "name": "stdout",
     "output_type": "stream",
     "text": [
      "Gasoline\n",
      "Battery\n",
      "Battery\n"
     ]
    }
   ],
   "source": [
    "print(d1.power_system)\n",
    "print(d2.power_system)\n",
    "print(Drone.power_system)\n",
    "#Instance attribute for d1 = \"Gasoline\", not Class attributes\n",
    "#d2 does not have instance attributes"
   ]
  },
  {
   "cell_type": "code",
   "execution_count": 8,
   "metadata": {
    "collapsed": true
   },
   "outputs": [],
   "source": [
    "d1.altitude = 100\n",
    "d2.altitude = 150"
   ]
  },
  {
   "cell_type": "code",
   "execution_count": 9,
   "metadata": {},
   "outputs": [
    {
     "name": "stdout",
     "output_type": "stream",
     "text": [
      "100\n",
      "150\n"
     ]
    }
   ],
   "source": [
    "print(d1.altitude)\n",
    "print(d2.altitude)"
   ]
  },
  {
   "cell_type": "code",
   "execution_count": 10,
   "metadata": {},
   "outputs": [
    {
     "ename": "AttributeError",
     "evalue": "type object 'Drone' has no attribute 'altitude'",
     "output_type": "error",
     "traceback": [
      "\u001b[0;31m---------------------------------------------------------------------------\u001b[0m",
      "\u001b[0;31mAttributeError\u001b[0m                            Traceback (most recent call last)",
      "\u001b[0;32m<ipython-input-10-f3bf5ddd8fe3>\u001b[0m in \u001b[0;36m<module>\u001b[0;34m()\u001b[0m\n\u001b[0;32m----> 1\u001b[0;31m \u001b[0mprint\u001b[0m\u001b[0;34m(\u001b[0m\u001b[0mDrone\u001b[0m\u001b[0;34m.\u001b[0m\u001b[0maltitude\u001b[0m\u001b[0;34m)\u001b[0m\u001b[0;34m\u001b[0m\u001b[0m\n\u001b[0m",
      "\u001b[0;31mAttributeError\u001b[0m: type object 'Drone' has no attribute 'altitude'"
     ]
    }
   ],
   "source": [
    "print(Drone.altitude)"
   ]
  },
  {
   "cell_type": "code",
   "execution_count": 11,
   "metadata": {},
   "outputs": [
    {
     "data": {
      "text/plain": [
       "['__class__',\n",
       " '__delattr__',\n",
       " '__dict__',\n",
       " '__dir__',\n",
       " '__doc__',\n",
       " '__eq__',\n",
       " '__format__',\n",
       " '__ge__',\n",
       " '__getattribute__',\n",
       " '__gt__',\n",
       " '__hash__',\n",
       " '__init__',\n",
       " '__init_subclass__',\n",
       " '__le__',\n",
       " '__lt__',\n",
       " '__module__',\n",
       " '__ne__',\n",
       " '__new__',\n",
       " '__reduce__',\n",
       " '__reduce_ex__',\n",
       " '__repr__',\n",
       " '__setattr__',\n",
       " '__sizeof__',\n",
       " '__str__',\n",
       " '__subclasshook__',\n",
       " '__weakref__',\n",
       " 'altitude',\n",
       " 'power_system']"
      ]
     },
     "execution_count": 11,
     "metadata": {},
     "output_type": "execute_result"
    }
   ],
   "source": [
    "dir(d1)\n",
    "#Many built-in attributes, except \"altitude\" and \"power_systems\""
   ]
  },
  {
   "cell_type": "code",
   "execution_count": 12,
   "metadata": {},
   "outputs": [
    {
     "data": {
      "text/plain": [
       "__main__.Drone"
      ]
     },
     "execution_count": 12,
     "metadata": {},
     "output_type": "execute_result"
    }
   ],
   "source": [
    "d1.__class__\n",
    "#class of the attribute: Drone"
   ]
  },
  {
   "cell_type": "code",
   "execution_count": 13,
   "metadata": {},
   "outputs": [
    {
     "data": {
      "text/plain": [
       "__main__.Drone"
      ]
     },
     "execution_count": 13,
     "metadata": {},
     "output_type": "execute_result"
    }
   ],
   "source": [
    "type(d1)"
   ]
  },
  {
   "cell_type": "code",
   "execution_count": 14,
   "metadata": {},
   "outputs": [
    {
     "data": {
      "text/plain": [
       "{'altitude': 100, 'power_system': 'Gasoline'}"
      ]
     },
     "execution_count": 14,
     "metadata": {},
     "output_type": "execute_result"
    }
   ],
   "source": [
    "d1.__dict__\n",
    "#dictionary of attributes created by me"
   ]
  },
  {
   "cell_type": "markdown",
   "metadata": {
    "collapsed": true
   },
   "source": [
    "## Using the Class definition"
   ]
  },
  {
   "cell_type": "code",
   "execution_count": 1,
   "metadata": {
    "collapsed": true
   },
   "outputs": [],
   "source": [
    "class Drone:\n",
    "    \n",
    "    power_system = \"battery\"\n",
    "    \n",
    "    #adding a method\n",
    "    def fly(self):\n",
    "        return \"The drone is flying.\""
   ]
  },
  {
   "cell_type": "code",
   "execution_count": 2,
   "metadata": {},
   "outputs": [
    {
     "name": "stdout",
     "output_type": "stream",
     "text": [
      "The drone is flying.\n"
     ]
    }
   ],
   "source": [
    "d = Drone()\n",
    "print(d.fly())"
   ]
  },
  {
   "cell_type": "code",
   "execution_count": 3,
   "metadata": {},
   "outputs": [
    {
     "name": "stdout",
     "output_type": "stream",
     "text": [
      "battery\n"
     ]
    }
   ],
   "source": [
    "print(d.power_system)"
   ]
  },
  {
   "cell_type": "code",
   "execution_count": 4,
   "metadata": {
    "collapsed": true
   },
   "outputs": [],
   "source": [
    "class Drone:\n",
    "    \n",
    "    power_system = \"battery\"\n",
    "    \n",
    "    #adding a method\n",
    "    def fly(self):\n",
    "        return \"The \" + self.power_system + \"-powered drone is flying.\""
   ]
  },
  {
   "cell_type": "code",
   "execution_count": 5,
   "metadata": {},
   "outputs": [
    {
     "name": "stdout",
     "output_type": "stream",
     "text": [
      "The battery-powered drone is flying.\n"
     ]
    }
   ],
   "source": [
    "d = Drone()\n",
    "print(d.fly())"
   ]
  },
  {
   "cell_type": "code",
   "execution_count": 6,
   "metadata": {},
   "outputs": [
    {
     "name": "stdout",
     "output_type": "stream",
     "text": [
      "The dream-powered drone is flying.\n",
      "The battery-powered drone is flying.\n"
     ]
    }
   ],
   "source": [
    "d1 = Drone()\n",
    "d2 = Drone()\n",
    "d1.power_system = \"dream\"\n",
    "print(d1.fly())\n",
    "print(d2.fly())"
   ]
  },
  {
   "cell_type": "code",
   "execution_count": 7,
   "metadata": {},
   "outputs": [
    {
     "name": "stdout",
     "output_type": "stream",
     "text": [
      "The battery-powered drone is flying at an altitude of 0\n",
      "The battery-powered drone is flying at an altitude of 100\n"
     ]
    }
   ],
   "source": [
    "class Drone:\n",
    "    \n",
    "    power_system = \"battery\"\n",
    "    \n",
    "    #adding a method\n",
    "    def fly(self):\n",
    "        print(\"The \" + self.power_system + \"-powered drone is flying at an altitude of \" + str(self.altitude))\n",
    "    \n",
    "    #ascend, fly are methods\n",
    "    def ascend(self, change):\n",
    "        self.altitude += change\n",
    "    \n",
    "d = Drone()\n",
    "d.altitude = 0\n",
    "d.fly()\n",
    "d.ascend(100)\n",
    "d.fly()"
   ]
  }
 ],
 "metadata": {
  "kernelspec": {
   "display_name": "Python 3",
   "language": "python",
   "name": "python3"
  },
  "language_info": {
   "codemirror_mode": {
    "name": "ipython",
    "version": 3
   },
   "file_extension": ".py",
   "mimetype": "text/x-python",
   "name": "python",
   "nbconvert_exporter": "python",
   "pygments_lexer": "ipython3",
   "version": "3.6.3"
  }
 },
 "nbformat": 4,
 "nbformat_minor": 2
}
