{
 "cells": [
  {
   "cell_type": "markdown",
   "metadata": {},
   "source": [
    "# Packages\n",
    "\n",
    "adding __init__.py under weather folder"
   ]
  },
  {
   "cell_type": "code",
   "execution_count": null,
   "metadata": {
    "collapsed": true
   },
   "outputs": [],
   "source": [
    "!touch weather/__init__.py"
   ]
  },
  {
   "cell_type": "code",
   "execution_count": null,
   "metadata": {
    "collapsed": true
   },
   "outputs": [],
   "source": [
    "from weather import daily, weekly\n",
    "\n",
    "print(\"Daily\")\n",
    "print(daily.forecast())\n",
    "print()\n",
    "\n",
    "print(\"Weekly\")\n",
    "print(weekly.forecast())"
   ]
  },
  {
   "cell_type": "code",
   "execution_count": null,
   "metadata": {
    "collapsed": true
   },
   "outputs": [],
   "source": [
    "from weather.daily import forecast as daily_forecast\n",
    "from weather.weekly import forecast as daily_forcast\n",
    "\n",
    "print(\"Daily\")\n",
    "print(daily_forecast())\n",
    "print()\n",
    "\n",
    "print(\"Weekly\")\n",
    "print(weekly_forecast())"
   ]
  },
  {
   "cell_type": "markdown",
   "metadata": {},
   "source": [
    "## Note on datetimes in Python 3"
   ]
  },
  {
   "cell_type": "code",
   "execution_count": 2,
   "metadata": {},
   "outputs": [
    {
     "name": "stdout",
     "output_type": "stream",
     "text": [
      "Forecast for Berkeley, CA on Saturday, August, 22, 2015, 11:16 AM local time\n",
      "\n"
     ]
    }
   ],
   "source": [
    "import datetime\n",
    "\n",
    "weatherData = {}\n",
    "weatherData[\"dt\"] = 1440270976\n",
    "\n",
    "current_utc_offset = -datetime.timedelta(hours=8)\n",
    "\n",
    "current_timezone = datetime.timezone(current_utc_offset)\n",
    "\n",
    "current_datetime = datetime.datetime.fromtimestamp(weatherData[\"dt\"], current_timezone)\n",
    "\n",
    "forecaststr = \"Forecast for Berkeley, CA on \" + current_datetime.strftime(\"%A, %B, %d, %Y, %H:%M %p\") + \" local time\\n\"\n",
    "\n",
    "print(forecaststr)"
   ]
  },
  {
   "cell_type": "code",
   "execution_count": null,
   "metadata": {
    "collapsed": true
   },
   "outputs": [],
   "source": []
  }
 ],
 "metadata": {
  "kernelspec": {
   "display_name": "Python 3",
   "language": "python",
   "name": "python3"
  },
  "language_info": {
   "codemirror_mode": {
    "name": "ipython",
    "version": 3
   },
   "file_extension": ".py",
   "mimetype": "text/x-python",
   "name": "python",
   "nbconvert_exporter": "python",
   "pygments_lexer": "ipython3",
   "version": "3.6.3"
  }
 },
 "nbformat": 4,
 "nbformat_minor": 2
}
