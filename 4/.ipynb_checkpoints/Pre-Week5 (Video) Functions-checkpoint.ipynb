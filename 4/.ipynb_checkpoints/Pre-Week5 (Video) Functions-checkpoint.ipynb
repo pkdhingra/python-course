{
 "cells": [
  {
   "cell_type": "markdown",
   "metadata": {},
   "source": [
    "# Functions\n",
    "\n",
    "1. Define the function\n",
    "2. Call the function"
   ]
  },
  {
   "cell_type": "code",
   "execution_count": 1,
   "metadata": {
    "collapsed": true
   },
   "outputs": [],
   "source": [
    "def print_stuff():\n",
    "    print(\"some stuff\")\n",
    "    print(\"more stuff\")"
   ]
  },
  {
   "cell_type": "code",
   "execution_count": 4,
   "metadata": {},
   "outputs": [
    {
     "data": {
      "text/plain": [
       "<function __main__.print_stuff>"
      ]
     },
     "execution_count": 4,
     "metadata": {},
     "output_type": "execute_result"
    }
   ],
   "source": [
    "print_stuff"
   ]
  },
  {
   "cell_type": "code",
   "execution_count": 5,
   "metadata": {},
   "outputs": [
    {
     "name": "stdout",
     "output_type": "stream",
     "text": [
      "Things on my todo list:\n",
      "some stuff\n",
      "more stuff\n",
      "some stuff\n",
      "more stuff\n"
     ]
    }
   ],
   "source": [
    "print(\"Things on my todo list:\")\n",
    "print_stuff()\n",
    "print_stuff()"
   ]
  },
  {
   "cell_type": "code",
   "execution_count": 8,
   "metadata": {},
   "outputs": [],
   "source": [
    "#x, epsilon are parameters\n",
    "\n",
    "def sqrt(x, epsilon):\n",
    "    \"\"\"Newton's Method for Finding square roots\n",
    "    to within a precision epsilon\"\"\"\n",
    "    ans = 1\n",
    "    num_guesses = 0\n",
    "    while abs(x/ans - ans) > epsilon:\n",
    "        ans = (x/ans + ans)/2\n",
    "        num_guesses += 1\n",
    "    return ans"
   ]
  },
  {
   "cell_type": "code",
   "execution_count": 13,
   "metadata": {
    "scrolled": true
   },
   "outputs": [
    {
     "name": "stdout",
     "output_type": "stream",
     "text": [
      "2.2360688956433634 is close to the square root of 5\n",
      "1.495349088238384 is close to the fourth root of 5\n"
     ]
    }
   ],
   "source": [
    "root = sqrt(5, 0.00001)\n",
    "print(root,\"is close to the square root of 5\")\n",
    "fourth_root = sqrt(root,0.00001)\n",
    "print(fourth_root,\"is close to the fourth root of 5\")"
   ]
  },
  {
   "cell_type": "code",
   "execution_count": 10,
   "metadata": {},
   "outputs": [
    {
     "data": {
      "text/plain": [
       "1e-05"
      ]
     },
     "execution_count": 10,
     "metadata": {},
     "output_type": "execute_result"
    }
   ],
   "source": [
    "epsilon"
   ]
  },
  {
   "cell_type": "code",
   "execution_count": 11,
   "metadata": {},
   "outputs": [
    {
     "name": "stdout",
     "output_type": "stream",
     "text": [
      "Help on function sqrt in module __main__:\n",
      "\n",
      "sqrt(x, epsilon)\n",
      "    Newton's Method for Finding square roots\n",
      "    to within a precision epsilon\n",
      "\n"
     ]
    }
   ],
   "source": [
    "help(sqrt)"
   ]
  },
  {
   "cell_type": "markdown",
   "metadata": {},
   "source": [
    "### Parameters vs. Arguments\n",
    "Parameters: when we're inside a function, the values passed in.\n",
    "Arguments: When we call a function from the outsice, the objects we pass in."
   ]
  },
  {
   "cell_type": "markdown",
   "metadata": {},
   "source": [
    "## Nesting Functions"
   ]
  },
  {
   "cell_type": "code",
   "execution_count": 24,
   "metadata": {},
   "outputs": [
    {
     "name": "stdout",
     "output_type": "stream",
     "text": [
      "Enter an x-coordinate: 3\n",
      "Enter an y-coordinate: 4\n",
      "The magnitude of your vector is 5.000000000053722\n",
      "The geometric mean of x and y is 3.4641016533502986\n"
     ]
    }
   ],
   "source": [
    "def sqrt(x, epsilon):\n",
    "    \"\"\"Newton's Method for Finding square roots\n",
    "    to within a precision epsilon\"\"\"\n",
    "    ans = 1\n",
    "    num_guesses = 0\n",
    "    while abs(x/ans - ans) > epsilon:\n",
    "        ans = (x/ans + ans)/2\n",
    "        num_guesses += 1\n",
    "    return ans\n",
    "\n",
    "def distance_to_origin(x, y):\n",
    "    \"\"\"Find the distance from a point at (x,y) to the origin\"\"\"\n",
    "    ans = sqrt(x**2 + y**2, 0.00001)\n",
    "    return ans\n",
    "\n",
    "def geometric_mean(x, y):\n",
    "    \"\"\"Compute the square root of x * y\"\"\"\n",
    "    return sqrt(x*y, 0.0001)\n",
    "    \n",
    "x = float(input(\"Enter an x-coordinate: \"))\n",
    "y = float(input(\"Enter an y-coordinate: \"))\n",
    "magnitude = distance_to_origin(x,y)\n",
    "print(\"The magnitude of your vector is\", magnitude)\n",
    "geo_mean = geometric_mean(x,y)\n",
    "print(\"The geometric mean of x and y is\", geo_mean)"
   ]
  },
  {
   "cell_type": "markdown",
   "metadata": {},
   "source": [
    "### Call stack\n",
    "\n",
    "Execution stack: stack of plates, each plate remembering one place where we are executing.\n",
    "\n",
    "\n",
    "### The Stack Trace\n",
    "3 different stack trees below example"
   ]
  },
  {
   "cell_type": "code",
   "execution_count": 25,
   "metadata": {},
   "outputs": [
    {
     "name": "stdout",
     "output_type": "stream",
     "text": [
      "Enter an x-coordinate: 3\n",
      "Enter an y-coordinate: 4\n"
     ]
    },
    {
     "ename": "ZeroDivisionError",
     "evalue": "division by zero",
     "output_type": "error",
     "traceback": [
      "\u001b[0;31m---------------------------------------------------------------------------\u001b[0m",
      "\u001b[0;31mZeroDivisionError\u001b[0m                         Traceback (most recent call last)",
      "\u001b[0;32m<ipython-input-25-55c10345687d>\u001b[0m in \u001b[0;36m<module>\u001b[0;34m()\u001b[0m\n\u001b[1;32m     20\u001b[0m \u001b[0mx\u001b[0m \u001b[0;34m=\u001b[0m \u001b[0mfloat\u001b[0m\u001b[0;34m(\u001b[0m\u001b[0minput\u001b[0m\u001b[0;34m(\u001b[0m\u001b[0;34m\"Enter an x-coordinate: \"\u001b[0m\u001b[0;34m)\u001b[0m\u001b[0;34m)\u001b[0m\u001b[0;34m\u001b[0m\u001b[0m\n\u001b[1;32m     21\u001b[0m \u001b[0my\u001b[0m \u001b[0;34m=\u001b[0m \u001b[0mfloat\u001b[0m\u001b[0;34m(\u001b[0m\u001b[0minput\u001b[0m\u001b[0;34m(\u001b[0m\u001b[0;34m\"Enter an y-coordinate: \"\u001b[0m\u001b[0;34m)\u001b[0m\u001b[0;34m)\u001b[0m\u001b[0;34m\u001b[0m\u001b[0m\n\u001b[0;32m---> 22\u001b[0;31m \u001b[0mmagnitude\u001b[0m \u001b[0;34m=\u001b[0m \u001b[0mdistance_to_origin\u001b[0m\u001b[0;34m(\u001b[0m\u001b[0mx\u001b[0m\u001b[0;34m,\u001b[0m\u001b[0my\u001b[0m\u001b[0;34m)\u001b[0m\u001b[0;34m\u001b[0m\u001b[0m\n\u001b[0m\u001b[1;32m     23\u001b[0m \u001b[0mprint\u001b[0m\u001b[0;34m(\u001b[0m\u001b[0;34m\"The magnitude of your vector is\"\u001b[0m\u001b[0;34m,\u001b[0m \u001b[0mmagnitude\u001b[0m\u001b[0;34m)\u001b[0m\u001b[0;34m\u001b[0m\u001b[0m\n\u001b[1;32m     24\u001b[0m \u001b[0mgeo_mean\u001b[0m \u001b[0;34m=\u001b[0m \u001b[0mgeometric_mean\u001b[0m\u001b[0;34m(\u001b[0m\u001b[0mx\u001b[0m\u001b[0;34m,\u001b[0m\u001b[0my\u001b[0m\u001b[0;34m)\u001b[0m\u001b[0;34m\u001b[0m\u001b[0m\n",
      "\u001b[0;32m<ipython-input-25-55c10345687d>\u001b[0m in \u001b[0;36mdistance_to_origin\u001b[0;34m(x, y)\u001b[0m\n\u001b[1;32m     11\u001b[0m \u001b[0;32mdef\u001b[0m \u001b[0mdistance_to_origin\u001b[0m\u001b[0;34m(\u001b[0m\u001b[0mx\u001b[0m\u001b[0;34m,\u001b[0m \u001b[0my\u001b[0m\u001b[0;34m)\u001b[0m\u001b[0;34m:\u001b[0m\u001b[0;34m\u001b[0m\u001b[0m\n\u001b[1;32m     12\u001b[0m     \u001b[0;34m\"\"\"Find the distance from a point at (x,y) to the origin\"\"\"\u001b[0m\u001b[0;34m\u001b[0m\u001b[0m\n\u001b[0;32m---> 13\u001b[0;31m     \u001b[0mans\u001b[0m \u001b[0;34m=\u001b[0m \u001b[0msqrt\u001b[0m\u001b[0;34m(\u001b[0m\u001b[0mx\u001b[0m\u001b[0;34m**\u001b[0m\u001b[0;36m2\u001b[0m \u001b[0;34m+\u001b[0m \u001b[0my\u001b[0m\u001b[0;34m**\u001b[0m\u001b[0;36m2\u001b[0m\u001b[0;34m,\u001b[0m \u001b[0;36m0.00001\u001b[0m\u001b[0;34m)\u001b[0m\u001b[0;34m\u001b[0m\u001b[0m\n\u001b[0m\u001b[1;32m     14\u001b[0m     \u001b[0;32mreturn\u001b[0m \u001b[0mans\u001b[0m\u001b[0;34m\u001b[0m\u001b[0m\n\u001b[1;32m     15\u001b[0m \u001b[0;34m\u001b[0m\u001b[0m\n",
      "\u001b[0;32m<ipython-input-25-55c10345687d>\u001b[0m in \u001b[0;36msqrt\u001b[0;34m(x, epsilon)\u001b[0m\n\u001b[1;32m      3\u001b[0m     to within a precision epsilon\"\"\"\n\u001b[1;32m      4\u001b[0m     \u001b[0mans\u001b[0m \u001b[0;34m=\u001b[0m \u001b[0;36m1\u001b[0m\u001b[0;34m\u001b[0m\u001b[0m\n\u001b[0;32m----> 5\u001b[0;31m     \u001b[0mnum_guesses\u001b[0m \u001b[0;34m=\u001b[0m \u001b[0;36m0\u001b[0m\u001b[0;34m/\u001b[0m\u001b[0;36m0\u001b[0m\u001b[0;34m\u001b[0m\u001b[0m\n\u001b[0m\u001b[1;32m      6\u001b[0m     \u001b[0;32mwhile\u001b[0m \u001b[0mabs\u001b[0m\u001b[0;34m(\u001b[0m\u001b[0mx\u001b[0m\u001b[0;34m/\u001b[0m\u001b[0mans\u001b[0m \u001b[0;34m-\u001b[0m \u001b[0mans\u001b[0m\u001b[0;34m)\u001b[0m \u001b[0;34m>\u001b[0m \u001b[0mepsilon\u001b[0m\u001b[0;34m:\u001b[0m\u001b[0;34m\u001b[0m\u001b[0m\n\u001b[1;32m      7\u001b[0m         \u001b[0mans\u001b[0m \u001b[0;34m=\u001b[0m \u001b[0;34m(\u001b[0m\u001b[0mx\u001b[0m\u001b[0;34m/\u001b[0m\u001b[0mans\u001b[0m \u001b[0;34m+\u001b[0m \u001b[0mans\u001b[0m\u001b[0;34m)\u001b[0m\u001b[0;34m/\u001b[0m\u001b[0;36m2\u001b[0m\u001b[0;34m\u001b[0m\u001b[0m\n",
      "\u001b[0;31mZeroDivisionError\u001b[0m: division by zero"
     ]
    }
   ],
   "source": [
    "def sqrt(x, epsilon):\n",
    "    \"\"\"Newton's Method for Finding square roots\n",
    "    to within a precision epsilon\"\"\"\n",
    "    ans = 1\n",
    "    num_guesses = 0/0\n",
    "    while abs(x/ans - ans) > epsilon:\n",
    "        ans = (x/ans + ans)/2\n",
    "        num_guesses += 1\n",
    "    return ans\n",
    "\n",
    "def distance_to_origin(x, y):\n",
    "    \"\"\"Find the distance from a point at (x,y) to the origin\"\"\"\n",
    "    ans = sqrt(x**2 + y**2, 0.00001)\n",
    "    return ans\n",
    "\n",
    "def geometric_mean(x, y):\n",
    "    \"\"\"Compute the square root of x * y\"\"\"\n",
    "    return sqrt(x*y, 0.0001)\n",
    "    \n",
    "x = float(input(\"Enter an x-coordinate: \"))\n",
    "y = float(input(\"Enter an y-coordinate: \"))\n",
    "magnitude = distance_to_origin(x,y)\n",
    "print(\"The magnitude of your vector is\", magnitude)\n",
    "geo_mean = geometric_mean(x,y)\n",
    "print(\"The geometric mean of x and y is\", geo_mean)"
   ]
  },
  {
   "cell_type": "markdown",
   "metadata": {},
   "source": [
    "## Advantages of Functions\n",
    "\n",
    "1. Decomposition: Break up tasks into self-contained pieces\n",
    "2. Modularity: Write flexible cods that can be reused\n",
    "3. Abstraction: Hide implementation details, create layers for tasks with diff. lever"
   ]
  }
 ],
 "metadata": {
  "kernelspec": {
   "display_name": "Python 3",
   "language": "python",
   "name": "python3"
  },
  "language_info": {
   "codemirror_mode": {
    "name": "ipython",
    "version": 3
   },
   "file_extension": ".py",
   "mimetype": "text/x-python",
   "name": "python",
   "nbconvert_exporter": "python",
   "pygments_lexer": "ipython3",
   "version": "3.6.3"
  }
 },
 "nbformat": 4,
 "nbformat_minor": 2
}
