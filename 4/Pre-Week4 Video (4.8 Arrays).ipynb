{
 "cells": [
  {
   "cell_type": "markdown",
   "metadata": {},
   "source": [
    "# Arrays\n",
    "\n",
    "available in numpy, not in base python\n",
    "\n",
    "optimized for computational performance"
   ]
  },
  {
   "cell_type": "code",
   "execution_count": 3,
   "metadata": {
    "collapsed": true
   },
   "outputs": [],
   "source": [
    "import numpy as np"
   ]
  },
  {
   "cell_type": "code",
   "execution_count": 7,
   "metadata": {},
   "outputs": [
    {
     "data": {
      "text/plain": [
       "array([ 0,  1,  2,  3,  4,  5,  6,  7,  8,  9, 10, 11, 12, 13, 14, 15, 16,\n",
       "       17, 18, 19])"
      ]
     },
     "execution_count": 7,
     "metadata": {},
     "output_type": "execute_result"
    }
   ],
   "source": [
    "x = np.arange(0,20)\n",
    "x"
   ]
  },
  {
   "cell_type": "code",
   "execution_count": 8,
   "metadata": {},
   "outputs": [
    {
     "data": {
      "text/plain": [
       "array([ 0,  1, 12,  3,  4,  5,  6,  7,  8,  9, 10, 11, 12, 13, 14, 15, 16,\n",
       "       17, 18, 19])"
      ]
     },
     "execution_count": 8,
     "metadata": {},
     "output_type": "execute_result"
    }
   ],
   "source": [
    "x[2] = 12\n",
    "x"
   ]
  },
  {
   "cell_type": "code",
   "execution_count": 10,
   "metadata": {},
   "outputs": [
    {
     "data": {
      "text/plain": [
       "dtype('int64')"
      ]
     },
     "execution_count": 10,
     "metadata": {},
     "output_type": "execute_result"
    }
   ],
   "source": [
    "x.dtype"
   ]
  },
  {
   "cell_type": "code",
   "execution_count": 14,
   "metadata": {},
   "outputs": [
    {
     "data": {
      "text/plain": [
       "array([ 0,  1, 12,  3,  4,  5,  6,  7,  8,  9,  2, 11, 12, 13, 14, 15, 16,\n",
       "       17, 18, 19])"
      ]
     },
     "execution_count": 14,
     "metadata": {},
     "output_type": "execute_result"
    }
   ],
   "source": [
    "x[10] = 2.5\n",
    "x"
   ]
  },
  {
   "cell_type": "code",
   "execution_count": 15,
   "metadata": {},
   "outputs": [
    {
     "data": {
      "text/plain": [
       "dtype('int64')"
      ]
     },
     "execution_count": 15,
     "metadata": {},
     "output_type": "execute_result"
    }
   ],
   "source": [
    "x.dtype"
   ]
  },
  {
   "cell_type": "code",
   "execution_count": 19,
   "metadata": {},
   "outputs": [
    {
     "ename": "AttributeError",
     "evalue": "'numpy.ndarray' object has no attribute 'append'",
     "output_type": "error",
     "traceback": [
      "\u001b[0;31m---------------------------------------------------------------------------\u001b[0m",
      "\u001b[0;31mAttributeError\u001b[0m                            Traceback (most recent call last)",
      "\u001b[0;32m<ipython-input-19-9238ce552d8e>\u001b[0m in \u001b[0;36m<module>\u001b[0;34m()\u001b[0m\n\u001b[0;32m----> 1\u001b[0;31m \u001b[0mx\u001b[0m\u001b[0;34m.\u001b[0m\u001b[0mappend\u001b[0m\u001b[0;34m(\u001b[0m\u001b[0;36m3\u001b[0m\u001b[0;34m)\u001b[0m\u001b[0;34m\u001b[0m\u001b[0m\n\u001b[0m",
      "\u001b[0;31mAttributeError\u001b[0m: 'numpy.ndarray' object has no attribute 'append'"
     ]
    }
   ],
   "source": [
    "x.append(3)"
   ]
  },
  {
   "cell_type": "code",
   "execution_count": 20,
   "metadata": {},
   "outputs": [
    {
     "ename": "AttributeError",
     "evalue": "'numpy.ndarray' object has no attribute 'pop'",
     "output_type": "error",
     "traceback": [
      "\u001b[0;31m---------------------------------------------------------------------------\u001b[0m",
      "\u001b[0;31mAttributeError\u001b[0m                            Traceback (most recent call last)",
      "\u001b[0;32m<ipython-input-20-e5f026e5bee7>\u001b[0m in \u001b[0;36m<module>\u001b[0;34m()\u001b[0m\n\u001b[0;32m----> 1\u001b[0;31m \u001b[0mx\u001b[0m\u001b[0;34m.\u001b[0m\u001b[0mpop\u001b[0m\u001b[0;34m(\u001b[0m\u001b[0;34m)\u001b[0m\u001b[0;34m\u001b[0m\u001b[0m\n\u001b[0m",
      "\u001b[0;31mAttributeError\u001b[0m: 'numpy.ndarray' object has no attribute 'pop'"
     ]
    }
   ],
   "source": [
    "x.pop()"
   ]
  },
  {
   "cell_type": "code",
   "execution_count": 22,
   "metadata": {},
   "outputs": [
    {
     "data": {
      "text/plain": [
       "array([[ 0.28276014,  0.88018381,  0.58102812,  0.02343857,  0.84841964],\n",
       "       [ 0.88801967,  0.57158127,  0.91145584,  0.09428778,  0.61428194],\n",
       "       [ 0.73304485,  0.00170256,  0.68672751,  0.10220823,  0.75720077],\n",
       "       [ 0.09778026,  0.04915721,  0.38438673,  0.25923346,  0.47399476],\n",
       "       [ 0.04693855,  0.49837085,  0.10848638,  0.16377411,  0.34720562]])"
      ]
     },
     "execution_count": 22,
     "metadata": {},
     "output_type": "execute_result"
    }
   ],
   "source": [
    "np.random.rand(5,5)"
   ]
  },
  {
   "cell_type": "code",
   "execution_count": 23,
   "metadata": {},
   "outputs": [
    {
     "data": {
      "text/plain": [
       "array([[[ 0.66188253,  0.12675386,  0.38750297,  0.24921162,  0.15688114],\n",
       "        [ 0.217198  ,  0.3017225 ,  0.09949964,  0.41947062,  0.91954123],\n",
       "        [ 0.43351182,  0.51929644,  0.49535374,  0.08078497,  0.06326947],\n",
       "        [ 0.32868138,  0.73254281,  0.14587663,  0.06552111,  0.9308868 ],\n",
       "        [ 0.27748476,  0.74582307,  0.02280054,  0.02618894,  0.82589316]],\n",
       "\n",
       "       [[ 0.51827403,  0.26077014,  0.15758162,  0.41501447,  0.83516251],\n",
       "        [ 0.88300295,  0.6892749 ,  0.59871141,  0.84198891,  0.03309549],\n",
       "        [ 0.93409542,  0.65632156,  0.54552273,  0.85637874,  0.11629729],\n",
       "        [ 0.1261468 ,  0.09047905,  0.84518105,  0.1303537 ,  0.93473341],\n",
       "        [ 0.11717919,  0.42554358,  0.75934619,  0.74181722,  0.38305578]],\n",
       "\n",
       "       [[ 0.03849241,  0.75487687,  0.67803837,  0.21483806,  0.95371881],\n",
       "        [ 0.26605138,  0.31415024,  0.19689409,  0.23590772,  0.47029828],\n",
       "        [ 0.52993089,  0.88757534,  0.49719954,  0.58809578,  0.23275105],\n",
       "        [ 0.07548245,  0.00798397,  0.56673944,  0.46637296,  0.25822847],\n",
       "        [ 0.28303283,  0.99277382,  0.59789717,  0.03063979,  0.18735661]],\n",
       "\n",
       "       [[ 0.72069288,  0.84687372,  0.64431443,  0.67381778,  0.76180148],\n",
       "        [ 0.70553578,  0.64711885,  0.16891118,  0.32469457,  0.92406001],\n",
       "        [ 0.01921061,  0.58164922,  0.90464644,  0.9848314 ,  0.13213727],\n",
       "        [ 0.44693753,  0.78082301,  0.6138471 ,  0.77048941,  0.06517519],\n",
       "        [ 0.68915238,  0.41808503,  0.38726696,  0.18418789,  0.35617389]],\n",
       "\n",
       "       [[ 0.39885513,  0.59618375,  0.9056    ,  0.69635663,  0.60550824],\n",
       "        [ 0.70568189,  0.21898072,  0.90139166,  0.80284174,  0.2276963 ],\n",
       "        [ 0.35589161,  0.48008307,  0.01806409,  0.82598964,  0.94678248],\n",
       "        [ 0.52835708,  0.8555144 ,  0.53764524,  0.5955935 ,  0.69708209],\n",
       "        [ 0.48719386,  0.22066524,  0.22271591,  0.24043079,  0.37786786]]])"
      ]
     },
     "execution_count": 23,
     "metadata": {},
     "output_type": "execute_result"
    }
   ],
   "source": [
    "np.random.rand(5,5,5)"
   ]
  },
  {
   "cell_type": "code",
   "execution_count": 24,
   "metadata": {
    "collapsed": true
   },
   "outputs": [],
   "source": [
    "np.random?"
   ]
  },
  {
   "cell_type": "code",
   "execution_count": 25,
   "metadata": {},
   "outputs": [
    {
     "data": {
      "text/plain": [
       "array([-1.32984074,  0.4776307 ,  1.08602593,  0.69234314,  0.16542605,\n",
       "       -1.01743539,  0.22145639, -2.38432311,  1.05996435, -1.60899074,\n",
       "        0.64176907, -0.32367732, -0.13193928,  0.22247556, -0.09433053,\n",
       "       -0.01212189, -1.8485733 , -0.25505794,  0.70295112,  0.63812013])"
      ]
     },
     "execution_count": 25,
     "metadata": {},
     "output_type": "execute_result"
    }
   ],
   "source": [
    "np.random.randn(20)"
   ]
  },
  {
   "cell_type": "code",
   "execution_count": 26,
   "metadata": {},
   "outputs": [
    {
     "data": {
      "text/plain": [
       "array([-0.33697566, -2.13735435, -1.1933344 , -0.89469003,  0.72827748,\n",
       "       -0.46400013,  0.98577774,  0.52251447, -1.73646272,  0.39271555,\n",
       "       -1.47430241, -0.14397075,  0.24332876, -0.47434338, -0.10057133,\n",
       "       -1.18293774,  0.5841916 , -0.26492167,  1.73029962,  0.46781063])"
      ]
     },
     "execution_count": 26,
     "metadata": {},
     "output_type": "execute_result"
    }
   ],
   "source": [
    "ar = np.random.randn(20)\n",
    "ar"
   ]
  },
  {
   "cell_type": "code",
   "execution_count": 28,
   "metadata": {},
   "outputs": [
    {
     "data": {
      "text/plain": [
       "-0.23744743668727269"
      ]
     },
     "execution_count": 28,
     "metadata": {},
     "output_type": "execute_result"
    }
   ],
   "source": [
    "ar.mean()"
   ]
  },
  {
   "cell_type": "code",
   "execution_count": 29,
   "metadata": {},
   "outputs": [
    {
     "data": {
      "text/plain": [
       "0.96049279620738237"
      ]
     },
     "execution_count": 29,
     "metadata": {},
     "output_type": "execute_result"
    }
   ],
   "source": [
    "ar.std()"
   ]
  },
  {
   "cell_type": "code",
   "execution_count": 32,
   "metadata": {},
   "outputs": [
    {
     "data": {
      "text/plain": [
       "array([[-0.33697566, -2.13735435, -1.1933344 , -0.89469003],\n",
       "       [ 0.72827748, -0.46400013,  0.98577774,  0.52251447],\n",
       "       [-1.73646272,  0.39271555, -1.47430241, -0.14397075],\n",
       "       [ 0.24332876, -0.47434338, -0.10057133, -1.18293774],\n",
       "       [ 0.5841916 , -0.26492167,  1.73029962,  0.46781063]])"
      ]
     },
     "execution_count": 32,
     "metadata": {},
     "output_type": "execute_result"
    }
   ],
   "source": [
    "ar = ar.reshape(5,4)\n",
    "ar"
   ]
  },
  {
   "cell_type": "code",
   "execution_count": 33,
   "metadata": {},
   "outputs": [
    {
     "data": {
      "text/plain": [
       "array([-0.10352811, -0.5895808 , -0.01042616, -0.24625469])"
      ]
     },
     "execution_count": 33,
     "metadata": {},
     "output_type": "execute_result"
    }
   ],
   "source": [
    "ar.mean(axis = 0)"
   ]
  },
  {
   "cell_type": "code",
   "execution_count": 34,
   "metadata": {},
   "outputs": [
    {
     "data": {
      "text/plain": [
       "array([-1.14058861,  0.44314239, -0.74050508, -0.37863092,  0.62934504])"
      ]
     },
     "execution_count": 34,
     "metadata": {},
     "output_type": "execute_result"
    }
   ],
   "source": [
    "ar.mean(axis = 1)"
   ]
  }
 ],
 "metadata": {
  "kernelspec": {
   "display_name": "Python 3",
   "language": "python",
   "name": "python3"
  },
  "language_info": {
   "codemirror_mode": {
    "name": "ipython",
    "version": 3
   },
   "file_extension": ".py",
   "mimetype": "text/x-python",
   "name": "python",
   "nbconvert_exporter": "python",
   "pygments_lexer": "ipython3",
   "version": "3.6.3"
  }
 },
 "nbformat": 4,
 "nbformat_minor": 2
}
