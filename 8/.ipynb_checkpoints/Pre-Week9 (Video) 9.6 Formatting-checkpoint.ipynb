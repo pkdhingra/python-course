{
 "cells": [
  {
   "cell_type": "markdown",
   "metadata": {},
   "source": [
    "# Formatting"
   ]
  },
  {
   "cell_type": "code",
   "execution_count": 2,
   "metadata": {},
   "outputs": [
    {
     "name": "stdout",
     "output_type": "stream",
     "text": [
      "Today is now Wednesday\n"
     ]
    }
   ],
   "source": [
    "import datetime\n",
    "today = datetime.datetime.now().strftime(\"%A\")\n",
    "\n",
    "print(\"Today is now \" + today)"
   ]
  },
  {
   "cell_type": "markdown",
   "metadata": {},
   "source": [
    "## Old style with %"
   ]
  },
  {
   "cell_type": "code",
   "execution_count": 3,
   "metadata": {
    "collapsed": true
   },
   "outputs": [],
   "source": [
    "students = []\n",
    "students.append({\"name\":\"Max Powers\", \"email\":\"max@gmail.com\",\"midterm\": 87.76, \"final\":88.65, \"grade\":\"B+\"})\n",
    "students.append({\"name\":\"Julie Thompson\", \"email\":\"julie@outlook.com\",\"midterm\": 93.43, \"final\":90.45, \"grade\":\"A-\"})\n",
    "students.append({\"name\":\"Amber Francis\", \"email\":\"amber@gmail.com\",\"midterm\": 85.23, \"final\":97.54, \"grade\":\"A-\"})\n",
    "students.append({\"name\":\"Andrew Smith\", \"email\":\"andrew@yahoo.com\",\"midterm\": 87.43, \"final\":80.32, \"grade\":\"B\"})"
   ]
  },
  {
   "cell_type": "code",
   "execution_count": 7,
   "metadata": {},
   "outputs": [
    {
     "name": "stdout",
     "output_type": "stream",
     "text": [
      "Max Powers           max@gmail.com        87.76   88.65   B+   \n",
      "Julie Thompson       julie@outlook.com    93.43   90.45   A-   \n",
      "Amber Francis        amber@gmail.com      85.23   97.54   A-   \n",
      "Andrew Smith         andrew@yahoo.com     87.43   80.32   B    \n"
     ]
    }
   ],
   "source": [
    "for student in students:\n",
    "    student_data = (\"%-20s %-20s %-7.2f %-7.2f %-5s\" %\n",
    "                   (student[\"name\"],\n",
    "                   student[\"email\"],\n",
    "                   student[\"midterm\"],\n",
    "                   student[\"final\"],\n",
    "                   student[\"grade\"]))\n",
    "    print(student_data)"
   ]
  },
  {
   "cell_type": "code",
   "execution_count": 5,
   "metadata": {},
   "outputs": [
    {
     "name": "stdout",
     "output_type": "stream",
     "text": [
      "Max Powers max@gmail.com 87.760000 88.650000 B+\n",
      "Julie Thompson julie@outlook.com 93.430000 90.450000 A-\n",
      "Amber Francis amber@gmail.com 85.230000 97.540000 A-\n",
      "Andrew Smith andrew@yahoo.com 87.430000 80.320000 B\n"
     ]
    }
   ],
   "source": [
    "for student in students:\n",
    "    student_data = (\"%s %s %f %f %s\" %\n",
    "                   (student[\"name\"],\n",
    "                   student[\"email\"],\n",
    "                   student[\"midterm\"],\n",
    "                   student[\"final\"],\n",
    "                   student[\"grade\"]))\n",
    "    print(student_data)"
   ]
  },
  {
   "cell_type": "code",
   "execution_count": 9,
   "metadata": {},
   "outputs": [
    {
     "name": "stdout",
     "output_type": "stream",
     "text": [
      "          Max Powers        max@gmail.com  87.760000  88.650000    B+\n",
      "      Julie Thompson    julie@outlook.com  93.430000  90.450000    A-\n",
      "       Amber Francis      amber@gmail.com  85.230000  97.540000    A-\n",
      "        Andrew Smith     andrew@yahoo.com  87.430000  80.320000     B\n"
     ]
    }
   ],
   "source": [
    "for student in students:\n",
    "    student_data = (\"%20s %20s %10f %10f %5s\" %\n",
    "                   (student[\"name\"],\n",
    "                   student[\"email\"],\n",
    "                   student[\"midterm\"],\n",
    "                   student[\"final\"],\n",
    "                   student[\"grade\"]))\n",
    "    print(student_data)"
   ]
  },
  {
   "cell_type": "code",
   "execution_count": 10,
   "metadata": {},
   "outputs": [
    {
     "name": "stdout",
     "output_type": "stream",
     "text": [
      "Max Powers           max@gmail.com        87.760000  88.650000  B+   \n",
      "Julie Thompson       julie@outlook.com    93.430000  90.450000  A-   \n",
      "Amber Francis        amber@gmail.com      85.230000  97.540000  A-   \n",
      "Andrew Smith         andrew@yahoo.com     87.430000  80.320000  B    \n"
     ]
    }
   ],
   "source": [
    "for student in students:\n",
    "    student_data = (\"%-20s %-20s %-10f %-10f %-5s\" %\n",
    "                   (student[\"name\"],\n",
    "                   student[\"email\"],\n",
    "                   student[\"midterm\"],\n",
    "                   student[\"final\"],\n",
    "                   student[\"grade\"]))\n",
    "    print(student_data)"
   ]
  },
  {
   "cell_type": "code",
   "execution_count": 12,
   "metadata": {},
   "outputs": [
    {
     "name": "stdout",
     "output_type": "stream",
     "text": [
      "Max Powers           max@gmail.com        88    89    B+   \n",
      "Julie Thompson       julie@outlook.com    93    90    A-   \n",
      "Amber Francis        amber@gmail.com      85    98    A-   \n",
      "Andrew Smith         andrew@yahoo.com     87    80    B    \n"
     ]
    }
   ],
   "source": [
    "for student in students:\n",
    "    student_data = (\"%-20s %-20s %-5.0f %-5.0f %-5s\" %\n",
    "                   (student[\"name\"],\n",
    "                   student[\"email\"],\n",
    "                   student[\"midterm\"],\n",
    "                   student[\"final\"],\n",
    "                   student[\"grade\"]))\n",
    "    print(student_data)"
   ]
  },
  {
   "cell_type": "code",
   "execution_count": 13,
   "metadata": {
    "collapsed": true
   },
   "outputs": [],
   "source": [
    "# Rounded, not trucated"
   ]
  },
  {
   "cell_type": "markdown",
   "metadata": {},
   "source": [
    "# New Style with {} and format"
   ]
  },
  {
   "cell_type": "code",
   "execution_count": 15,
   "metadata": {},
   "outputs": [
    {
     "name": "stdout",
     "output_type": "stream",
     "text": [
      "Max Powers           max@gmail.com        88    89    B+   \n",
      "Julie Thompson       julie@outlook.com    93    90    A-   \n",
      "Amber Francis        amber@gmail.com      85    98    A-   \n",
      "Andrew Smith         andrew@yahoo.com     87    80    B    \n"
     ]
    }
   ],
   "source": [
    "for student in students:\n",
    "    student_data = \"{name:<20s} {email:<20s} {midterm:<5.0f} {final:<5.0f} {grade:<5s}\".format(\n",
    "                   name=student[\"name\"],\n",
    "                   email=student[\"email\"],\n",
    "                   midterm=student[\"midterm\"],\n",
    "                   final=student[\"final\"],\n",
    "                   grade=student[\"grade\"])\n",
    "    print(student_data)"
   ]
  },
  {
   "cell_type": "code",
   "execution_count": 16,
   "metadata": {},
   "outputs": [
    {
     "name": "stdout",
     "output_type": "stream",
     "text": [
      "Max Powers max@gmail.com 87.76 88.65 B+\n",
      "Julie Thompson julie@outlook.com 93.43 90.45 A-\n",
      "Amber Francis amber@gmail.com 85.23 97.54 A-\n",
      "Andrew Smith andrew@yahoo.com 87.43 80.32 B\n"
     ]
    }
   ],
   "source": [
    "for student in students:\n",
    "    student_data = \"{} {} {} {} {}\".format(\n",
    "                   student[\"name\"],\n",
    "                   student[\"email\"],\n",
    "                   student[\"midterm\"],\n",
    "                   student[\"final\"],\n",
    "                   student[\"grade\"])\n",
    "    print(student_data)"
   ]
  },
  {
   "cell_type": "code",
   "execution_count": 18,
   "metadata": {},
   "outputs": [
    {
     "name": "stdout",
     "output_type": "stream",
     "text": [
      "Max Powers max@gmail.com 87.76 88.65 B+\n",
      "Julie Thompson julie@outlook.com 93.43 90.45 A-\n",
      "Amber Francis amber@gmail.com 85.23 97.54 A-\n",
      "Andrew Smith andrew@yahoo.com 87.43 80.32 B\n"
     ]
    }
   ],
   "source": [
    "for student in students:\n",
    "    student_data = \"{name} {email} {midterm} {final} {grade}\".format(\n",
    "                   grade = student[\"grade\"],\n",
    "                   email = student[\"email\"],\n",
    "                   midterm = student[\"midterm\"],\n",
    "                   final = student[\"final\"],\n",
    "                   name = student[\"name\"])\n",
    "    print(student_data)"
   ]
  },
  {
   "cell_type": "markdown",
   "metadata": {},
   "source": [
    "#### **Order doesn't matter!"
   ]
  },
  {
   "cell_type": "code",
   "execution_count": 20,
   "metadata": {},
   "outputs": [
    {
     "name": "stdout",
     "output_type": "stream",
     "text": [
      "Max Powers max@gmail.com 87.760000 88.650000 B+\n",
      "Julie Thompson julie@outlook.com 93.430000 90.450000 A-\n",
      "Amber Francis amber@gmail.com 85.230000 97.540000 A-\n",
      "Andrew Smith andrew@yahoo.com 87.430000 80.320000 B\n"
     ]
    }
   ],
   "source": [
    "for student in students:\n",
    "    student_data = \"{name:s} {email:s} {midterm:f} {final:f} {grade:s}\".format(\n",
    "                   grade = student[\"grade\"],\n",
    "                   email = student[\"email\"],\n",
    "                   midterm = student[\"midterm\"],\n",
    "                   final = student[\"final\"],\n",
    "                   name = student[\"name\"])\n",
    "    print(student_data)"
   ]
  },
  {
   "cell_type": "code",
   "execution_count": 21,
   "metadata": {},
   "outputs": [
    {
     "name": "stdout",
     "output_type": "stream",
     "text": [
      "Max Powers           max@gmail.com        88    89    B+   \n",
      "Julie Thompson       julie@outlook.com    93    90    A-   \n",
      "Amber Francis        amber@gmail.com      85    98    A-   \n",
      "Andrew Smith         andrew@yahoo.com     87    80    B    \n"
     ]
    }
   ],
   "source": [
    "for student in students:\n",
    "    student_data = \"{name:<20s} {email:<20s} {midterm:<5.0f} {final:<5.0f} {grade:<5s}\".format(\n",
    "                   grade = student[\"grade\"],\n",
    "                   email = student[\"email\"],\n",
    "                   midterm = student[\"midterm\"],\n",
    "                   final = student[\"final\"],\n",
    "                   name = student[\"name\"])\n",
    "    print(student_data)"
   ]
  }
 ],
 "metadata": {
  "kernelspec": {
   "display_name": "Python 3",
   "language": "python",
   "name": "python3"
  },
  "language_info": {
   "codemirror_mode": {
    "name": "ipython",
    "version": 3
   },
   "file_extension": ".py",
   "mimetype": "text/x-python",
   "name": "python",
   "nbconvert_exporter": "python",
   "pygments_lexer": "ipython3",
   "version": "3.6.3"
  }
 },
 "nbformat": 4,
 "nbformat_minor": 2
}
